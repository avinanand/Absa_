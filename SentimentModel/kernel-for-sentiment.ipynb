{
 "cells": [
  {
   "cell_type": "code",
   "execution_count": 1,
   "metadata": {
    "_cell_guid": "b1076dfc-b9ad-4769-8c92-a6c4dae69d19",
    "_uuid": "8f2839f25d086af736a60e9eeb907d3b93b6e0e5",
    "execution": {
     "iopub.execute_input": "2020-08-10T20:44:26.788070Z",
     "iopub.status.busy": "2020-08-10T20:44:26.787213Z",
     "iopub.status.idle": "2020-08-10T20:44:26.797977Z",
     "shell.execute_reply": "2020-08-10T20:44:26.797293Z"
    },
    "papermill": {
     "duration": 0.025565,
     "end_time": "2020-08-10T20:44:26.798090",
     "exception": false,
     "start_time": "2020-08-10T20:44:26.772525",
     "status": "completed"
    },
    "tags": []
   },
   "outputs": [
    {
     "name": "stdout",
     "output_type": "stream",
     "text": [
      "/kaggle/input/for-sentiment-training/to_train_senti.csv\n",
      "/kaggle/input/for-sentiment-training/to_test_senti.csv\n",
      "/kaggle/input/bert-base-uncased/vocab.txt\n",
      "/kaggle/input/bert-base-uncased/pytorch_model.bin\n",
      "/kaggle/input/bert-base-uncased/config.json\n"
     ]
    }
   ],
   "source": [
    "\n",
    "import numpy as np # linear algebra\n",
    "import pandas as pd # data processing, CSV file I/O (e.g. pd.read_csv)\n",
    "\n",
    "import os\n",
    "for dirname, _, filenames in os.walk('/kaggle/input'):\n",
    "    for filename in filenames:\n",
    "        print(os.path.join(dirname, filename))\n"
   ]
  },
  {
   "cell_type": "code",
   "execution_count": 2,
   "metadata": {
    "_cell_guid": "79c7e3d0-c299-4dcb-8224-4455121ee9b0",
    "_uuid": "d629ff2d2480ee46fbb7e2d37f6b5fab8052498a",
    "execution": {
     "iopub.execute_input": "2020-08-10T20:44:26.821492Z",
     "iopub.status.busy": "2020-08-10T20:44:26.820428Z",
     "iopub.status.idle": "2020-08-10T20:44:26.842749Z",
     "shell.execute_reply": "2020-08-10T20:44:26.842187Z"
    },
    "papermill": {
     "duration": 0.035544,
     "end_time": "2020-08-10T20:44:26.842868",
     "exception": false,
     "start_time": "2020-08-10T20:44:26.807324",
     "status": "completed"
    },
    "tags": []
   },
   "outputs": [],
   "source": [
    "train = pd.read_csv(\"../input/for-sentiment-training/to_train_senti.csv\")\n",
    "test = pd.read_csv(\"../input/for-sentiment-training/to_test_senti.csv\")"
   ]
  },
  {
   "cell_type": "code",
   "execution_count": 3,
   "metadata": {
    "execution": {
     "iopub.execute_input": "2020-08-10T20:44:26.871284Z",
     "iopub.status.busy": "2020-08-10T20:44:26.870690Z",
     "iopub.status.idle": "2020-08-10T20:44:26.883025Z",
     "shell.execute_reply": "2020-08-10T20:44:26.882521Z"
    },
    "papermill": {
     "duration": 0.031578,
     "end_time": "2020-08-10T20:44:26.883123",
     "exception": false,
     "start_time": "2020-08-10T20:44:26.851545",
     "status": "completed"
    },
    "tags": []
   },
   "outputs": [
    {
     "data": {
      "text/html": [
       "<div>\n",
       "<style scoped>\n",
       "    .dataframe tbody tr th:only-of-type {\n",
       "        vertical-align: middle;\n",
       "    }\n",
       "\n",
       "    .dataframe tbody tr th {\n",
       "        vertical-align: top;\n",
       "    }\n",
       "\n",
       "    .dataframe thead th {\n",
       "        text-align: right;\n",
       "    }\n",
       "</style>\n",
       "<table border=\"1\" class=\"dataframe\">\n",
       "  <thead>\n",
       "    <tr style=\"text-align: right;\">\n",
       "      <th></th>\n",
       "      <th>id</th>\n",
       "      <th>text</th>\n",
       "      <th>target_entity</th>\n",
       "      <th>label</th>\n",
       "      <th>sentiment</th>\n",
       "    </tr>\n",
       "  </thead>\n",
       "  <tbody>\n",
       "    <tr>\n",
       "      <th>0</th>\n",
       "      <td>153</td>\n",
       "      <td>LOCATION1 is in Greater London  and is a ve...</td>\n",
       "      <td>LOCATION1</td>\n",
       "      <td>safety</td>\n",
       "      <td>Positive</td>\n",
       "    </tr>\n",
       "    <tr>\n",
       "      <th>1</th>\n",
       "      <td>1130</td>\n",
       "      <td>All the neighborhoods around LOCATION1 are v...</td>\n",
       "      <td>LOCATION1</td>\n",
       "      <td>general</td>\n",
       "      <td>Positive</td>\n",
       "    </tr>\n",
       "    <tr>\n",
       "      <th>2</th>\n",
       "      <td>1130</td>\n",
       "      <td>All the neighborhoods around LOCATION1 are v...</td>\n",
       "      <td>LOCATION1</td>\n",
       "      <td>safety</td>\n",
       "      <td>Positive</td>\n",
       "    </tr>\n",
       "    <tr>\n",
       "      <th>3</th>\n",
       "      <td>1271</td>\n",
       "      <td>Cheap is LOCATION2, LOCATION1, but not reall...</td>\n",
       "      <td>LOCATION1</td>\n",
       "      <td>general</td>\n",
       "      <td>Negative</td>\n",
       "    </tr>\n",
       "    <tr>\n",
       "      <th>4</th>\n",
       "      <td>1271</td>\n",
       "      <td>Cheap is LOCATION2, LOCATION1, but not reall...</td>\n",
       "      <td>LOCATION1</td>\n",
       "      <td>price</td>\n",
       "      <td>Positive</td>\n",
       "    </tr>\n",
       "  </tbody>\n",
       "</table>\n",
       "</div>"
      ],
      "text/plain": [
       "     id                                               text target_entity  \\\n",
       "0   153     LOCATION1 is in Greater London  and is a ve...     LOCATION1   \n",
       "1  1130    All the neighborhoods around LOCATION1 are v...     LOCATION1   \n",
       "2  1130    All the neighborhoods around LOCATION1 are v...     LOCATION1   \n",
       "3  1271    Cheap is LOCATION2, LOCATION1, but not reall...     LOCATION1   \n",
       "4  1271    Cheap is LOCATION2, LOCATION1, but not reall...     LOCATION1   \n",
       "\n",
       "     label sentiment  \n",
       "0   safety  Positive  \n",
       "1  general  Positive  \n",
       "2   safety  Positive  \n",
       "3  general  Negative  \n",
       "4    price  Positive  "
      ]
     },
     "execution_count": 3,
     "metadata": {},
     "output_type": "execute_result"
    }
   ],
   "source": [
    "test.head()"
   ]
  },
  {
   "cell_type": "code",
   "execution_count": 4,
   "metadata": {
    "execution": {
     "iopub.execute_input": "2020-08-10T20:44:26.912574Z",
     "iopub.status.busy": "2020-08-10T20:44:26.911647Z",
     "iopub.status.idle": "2020-08-10T20:44:26.915690Z",
     "shell.execute_reply": "2020-08-10T20:44:26.915203Z"
    },
    "papermill": {
     "duration": 0.023322,
     "end_time": "2020-08-10T20:44:26.915803",
     "exception": false,
     "start_time": "2020-08-10T20:44:26.892481",
     "status": "completed"
    },
    "tags": []
   },
   "outputs": [
    {
     "data": {
      "text/html": [
       "<div>\n",
       "<style scoped>\n",
       "    .dataframe tbody tr th:only-of-type {\n",
       "        vertical-align: middle;\n",
       "    }\n",
       "\n",
       "    .dataframe tbody tr th {\n",
       "        vertical-align: top;\n",
       "    }\n",
       "\n",
       "    .dataframe thead th {\n",
       "        text-align: right;\n",
       "    }\n",
       "</style>\n",
       "<table border=\"1\" class=\"dataframe\">\n",
       "  <thead>\n",
       "    <tr style=\"text-align: right;\">\n",
       "      <th></th>\n",
       "      <th>id</th>\n",
       "      <th>text</th>\n",
       "      <th>target_entity</th>\n",
       "      <th>label</th>\n",
       "      <th>sentiment</th>\n",
       "    </tr>\n",
       "  </thead>\n",
       "  <tbody>\n",
       "    <tr>\n",
       "      <th>0</th>\n",
       "      <td>1430</td>\n",
       "      <td>LOCATION1 is transforming and the prices w...</td>\n",
       "      <td>LOCATION1</td>\n",
       "      <td>price</td>\n",
       "      <td>Negative</td>\n",
       "    </tr>\n",
       "    <tr>\n",
       "      <th>1</th>\n",
       "      <td>1244</td>\n",
       "      <td>And LOCATION1 is ten mins direct on the tube...</td>\n",
       "      <td>LOCATION1</td>\n",
       "      <td>transit-location</td>\n",
       "      <td>Positive</td>\n",
       "    </tr>\n",
       "    <tr>\n",
       "      <th>2</th>\n",
       "      <td>209</td>\n",
       "      <td>Another option is LOCATION1 which is very ce...</td>\n",
       "      <td>LOCATION1</td>\n",
       "      <td>transit-location</td>\n",
       "      <td>Positive</td>\n",
       "    </tr>\n",
       "    <tr>\n",
       "      <th>3</th>\n",
       "      <td>2824</td>\n",
       "      <td>Best bet is around LOCATION2 and LOCATION1 a...</td>\n",
       "      <td>LOCATION1</td>\n",
       "      <td>general</td>\n",
       "      <td>Positive</td>\n",
       "    </tr>\n",
       "    <tr>\n",
       "      <th>4</th>\n",
       "      <td>2824</td>\n",
       "      <td>Best bet is around LOCATION2 and LOCATION1 a...</td>\n",
       "      <td>LOCATION2</td>\n",
       "      <td>general</td>\n",
       "      <td>Positive</td>\n",
       "    </tr>\n",
       "  </tbody>\n",
       "</table>\n",
       "</div>"
      ],
      "text/plain": [
       "     id                                               text target_entity  \\\n",
       "0  1430      LOCATION1 is transforming and the prices w...     LOCATION1   \n",
       "1  1244    And LOCATION1 is ten mins direct on the tube...     LOCATION1   \n",
       "2   209    Another option is LOCATION1 which is very ce...     LOCATION1   \n",
       "3  2824    Best bet is around LOCATION2 and LOCATION1 a...     LOCATION1   \n",
       "4  2824    Best bet is around LOCATION2 and LOCATION1 a...     LOCATION2   \n",
       "\n",
       "              label sentiment  \n",
       "0             price  Negative  \n",
       "1  transit-location  Positive  \n",
       "2  transit-location  Positive  \n",
       "3           general  Positive  \n",
       "4           general  Positive  "
      ]
     },
     "execution_count": 4,
     "metadata": {},
     "output_type": "execute_result"
    }
   ],
   "source": [
    "train.head()"
   ]
  },
  {
   "cell_type": "code",
   "execution_count": 5,
   "metadata": {
    "execution": {
     "iopub.execute_input": "2020-08-10T20:44:26.941344Z",
     "iopub.status.busy": "2020-08-10T20:44:26.940611Z",
     "iopub.status.idle": "2020-08-10T20:44:34.651857Z",
     "shell.execute_reply": "2020-08-10T20:44:34.650397Z"
    },
    "papermill": {
     "duration": 7.726163,
     "end_time": "2020-08-10T20:44:34.651981",
     "exception": false,
     "start_time": "2020-08-10T20:44:26.925818",
     "status": "completed"
    },
    "tags": []
   },
   "outputs": [
    {
     "name": "stderr",
     "output_type": "stream",
     "text": [
      "\u001b[34m\u001b[1mwandb\u001b[0m: \u001b[33mWARNING\u001b[0m W&B installed but not logged in.  Run `wandb login` or set the WANDB_API_KEY env variable.\n"
     ]
    }
   ],
   "source": [
    "import transformers\n",
    "\n",
    "MAX_LEN = 512\n",
    "TRAIN_BATCH_SIZE = 12\n",
    "VALID_BATCH_SIZE = 12\n",
    "EPOCHS = 10\n",
    "BERT_PATH = \"../input/bert-base-uncased/\"\n",
    "MODEL_PATH = \"model.bin\"\n",
    "TRAINING_FILE = \"../input/absa-dataset/input/bert-pair/train_NLI_M.tsv\"\n",
    "DEV_FILE = \"../input/absa-dataset/input/bert-pair/dev_NLI_M.tsv\"\n",
    "TEST_FILE = \"../input/absa-dataset/input/bert-pair/test_NLI_M.tsv\"\n",
    "TOKENIZER = transformers.BertTokenizer.from_pretrained(BERT_PATH, do_lower_case=True)"
   ]
  },
  {
   "cell_type": "code",
   "execution_count": 6,
   "metadata": {
    "execution": {
     "iopub.execute_input": "2020-08-10T20:44:34.687833Z",
     "iopub.status.busy": "2020-08-10T20:44:34.686433Z",
     "iopub.status.idle": "2020-08-10T20:44:34.689258Z",
     "shell.execute_reply": "2020-08-10T20:44:34.689781Z"
    },
    "papermill": {
     "duration": 0.026838,
     "end_time": "2020-08-10T20:44:34.689905",
     "exception": false,
     "start_time": "2020-08-10T20:44:34.663067",
     "status": "completed"
    },
    "tags": []
   },
   "outputs": [],
   "source": [
    "import torch\n",
    "\n",
    "class BERTDataset:\n",
    "    def __init__(self, sentence1s,targets):\n",
    "        self.sentence1s = sentence1s\n",
    "        #self.sentence2s = sentence2s\n",
    "        self.targets = targets\n",
    "        self.tokenizer = TOKENIZER\n",
    "        self.max_len = MAX_LEN\n",
    "        \n",
    "    def __len__(self):\n",
    "        return len(self.sentence1s)\n",
    "                   \n",
    "        \n",
    "    def __getitem__(self, item):\n",
    "        sentence1 = str(self.sentence1s[item])\n",
    "        sentence1 = \" \".join(sentence1.split())\n",
    "        \n",
    "        #sentence2 = str(self.sentence2s[item])\n",
    "        #sentence2 = \" \".join(sentence2.split())\n",
    "\n",
    "        inputs = self.tokenizer.encode_plus(sentence1,\n",
    "                                            None,\n",
    "                                            add_special_tokens=True, \n",
    "                                            max_length=self.max_len,\n",
    "                                            pad_to_max_length=True,\n",
    "                                           )\n",
    "\n",
    "        ids = inputs[\"input_ids\"]\n",
    "        mask = inputs[\"attention_mask\"]\n",
    "        token_type_ids = inputs[\"token_type_ids\"]\n",
    "        \n",
    "        return {\n",
    "            \"ids\": torch.tensor(ids, dtype=torch.long),\n",
    "            \"mask\": torch.tensor(mask, dtype=torch.long),\n",
    "            \"token_type_ids\": torch.tensor(token_type_ids, dtype=torch.long),\n",
    "            \"targets\": torch.tensor(self.targets[item], dtype=torch.long),\n",
    "        }\n"
   ]
  },
  {
   "cell_type": "code",
   "execution_count": 7,
   "metadata": {
    "execution": {
     "iopub.execute_input": "2020-08-10T20:44:34.721305Z",
     "iopub.status.busy": "2020-08-10T20:44:34.720449Z",
     "iopub.status.idle": "2020-08-10T20:44:34.723179Z",
     "shell.execute_reply": "2020-08-10T20:44:34.723686Z"
    },
    "papermill": {
     "duration": 0.022981,
     "end_time": "2020-08-10T20:44:34.723819",
     "exception": false,
     "start_time": "2020-08-10T20:44:34.700838",
     "status": "completed"
    },
    "tags": []
   },
   "outputs": [],
   "source": [
    "import transformers\n",
    "import torch.nn as nn\n",
    "\n",
    "\n",
    "class BERTBaseUncased(nn.Module):\n",
    "    def __init__(self):\n",
    "        super(BERTBaseUncased, self).__init__()\n",
    "        self.bert = transformers.BertModel.from_pretrained(BERT_PATH)\n",
    "        self.bert_drop = nn.Dropout(0.3)\n",
    "        self.out = nn.Linear(768, 3)\n",
    "\n",
    "    def forward(self, ids, mask, token_type_ids):\n",
    "        _, o2 = self.bert(ids, attention_mask=mask, token_type_ids=token_type_ids)\n",
    "        bo = self.bert_drop(o2)\n",
    "        output = self.out(bo)\n",
    "        return output\n"
   ]
  },
  {
   "cell_type": "code",
   "execution_count": 8,
   "metadata": {
    "execution": {
     "iopub.execute_input": "2020-08-10T20:44:34.764668Z",
     "iopub.status.busy": "2020-08-10T20:44:34.758080Z",
     "iopub.status.idle": "2020-08-10T20:44:34.769191Z",
     "shell.execute_reply": "2020-08-10T20:44:34.768510Z"
    },
    "papermill": {
     "duration": 0.034928,
     "end_time": "2020-08-10T20:44:34.769288",
     "exception": false,
     "start_time": "2020-08-10T20:44:34.734360",
     "status": "completed"
    },
    "tags": []
   },
   "outputs": [],
   "source": [
    "import torch\n",
    "import torch.nn as nn\n",
    "from tqdm import tqdm\n",
    "import pdb\n",
    "\n",
    "\n",
    "def loss_fn(outputs, targets):\n",
    "    #targets = torch.argmax(targets, 1)\n",
    "    #loss = nn.CrossEntropyLoss()(outputs, targets.view(-1, 1))\n",
    "    loss = nn.CrossEntropyLoss()(outputs, targets)\n",
    "    \n",
    "    return loss\n",
    "\n",
    "\n",
    "def train_fn(data_loader, model, optimizer, device, scheduler):\n",
    "    model.train()\n",
    "\n",
    "    for bi, d in tqdm(enumerate(data_loader), total=len(data_loader)):\n",
    "        ids = d[\"ids\"]\n",
    "        token_type_ids = d[\"token_type_ids\"]\n",
    "        mask = d[\"mask\"]\n",
    "        targets = d[\"targets\"]\n",
    "\n",
    "        ids = ids.to(device, dtype=torch.long)\n",
    "        token_type_ids = token_type_ids.to(device, dtype=torch.long)\n",
    "        mask = mask.to(device, dtype=torch.long)\n",
    "        #pdb.set_trace()\n",
    "        targets = targets.to(device, dtype=torch.long)\n",
    "        #pdb.set_trace()\n",
    "\n",
    "        optimizer.zero_grad()\n",
    "        outputs = model(ids=ids, mask=mask, token_type_ids=token_type_ids)\n",
    "        loss = loss_fn(outputs, targets)\n",
    "        loss.backward()\n",
    "        optimizer.step()\n",
    "        scheduler.step()\n",
    "\n",
    "\n",
    "def eval_fn(data_loader, model, device):\n",
    "    model.eval()\n",
    "    fin_targets = []\n",
    "    fin_outputs = []\n",
    "    with torch.no_grad():\n",
    "        for bi, d in tqdm(enumerate(data_loader), total=len(data_loader)):\n",
    "            ids = d[\"ids\"]\n",
    "            token_type_ids = d[\"token_type_ids\"]\n",
    "            mask = d[\"mask\"]\n",
    "            targets = d[\"targets\"]\n",
    "\n",
    "            ids = ids.to(device, dtype=torch.long)\n",
    "            token_type_ids = token_type_ids.to(device, dtype=torch.long)\n",
    "            mask = mask.to(device, dtype=torch.long)\n",
    "            targets = targets.to(device, dtype=torch.long)\n",
    "\n",
    "            outputs = model(ids=ids, mask=mask, token_type_ids=token_type_ids)\n",
    "            act = nn.Softmax(dim=1)\n",
    "            outputs = act(outputs)\n",
    "            fin_targets.extend(targets.detach().cpu().numpy().tolist())\n",
    "            fin_outputs.extend(outputs.cpu().numpy().tolist())\n",
    "            \n",
    "    return fin_outputs, fin_targets"
   ]
  },
  {
   "cell_type": "code",
   "execution_count": 9,
   "metadata": {
    "execution": {
     "iopub.execute_input": "2020-08-10T20:44:34.813924Z",
     "iopub.status.busy": "2020-08-10T20:44:34.813104Z",
     "iopub.status.idle": "2020-08-10T21:10:46.171997Z",
     "shell.execute_reply": "2020-08-10T21:10:46.171259Z"
    },
    "papermill": {
     "duration": 1571.391816,
     "end_time": "2020-08-10T21:10:46.172171",
     "exception": false,
     "start_time": "2020-08-10T20:44:34.780355",
     "status": "completed"
    },
    "tags": []
   },
   "outputs": [
    {
     "name": "stdout",
     "output_type": "stream",
     "text": [
      "0\n"
     ]
    },
    {
     "name": "stderr",
     "output_type": "stream",
     "text": [
      "100%|██████████| 205/205 [02:14<00:00,  1.53it/s]\n",
      "100%|██████████| 102/102 [00:22<00:00,  4.62it/s]\n"
     ]
    },
    {
     "name": "stdout",
     "output_type": "stream",
     "text": [
      "Accuracy Score = {0.819078947368421}\n",
      "1\n"
     ]
    },
    {
     "name": "stderr",
     "output_type": "stream",
     "text": [
      "100%|██████████| 205/205 [02:13<00:00,  1.54it/s]\n",
      "100%|██████████| 102/102 [00:21<00:00,  4.64it/s]\n"
     ]
    },
    {
     "name": "stdout",
     "output_type": "stream",
     "text": [
      "Accuracy Score = {0.8470394736842105}\n",
      "2\n"
     ]
    },
    {
     "name": "stderr",
     "output_type": "stream",
     "text": [
      "100%|██████████| 205/205 [02:13<00:00,  1.54it/s]\n",
      "100%|██████████| 102/102 [00:22<00:00,  4.61it/s]\n"
     ]
    },
    {
     "name": "stdout",
     "output_type": "stream",
     "text": [
      "Accuracy Score = {0.850328947368421}\n",
      "3\n"
     ]
    },
    {
     "name": "stderr",
     "output_type": "stream",
     "text": [
      "100%|██████████| 205/205 [02:13<00:00,  1.54it/s]\n",
      "100%|██████████| 102/102 [00:22<00:00,  4.62it/s]\n"
     ]
    },
    {
     "name": "stdout",
     "output_type": "stream",
     "text": [
      "Accuracy Score = {0.8569078947368421}\n",
      "4\n"
     ]
    },
    {
     "name": "stderr",
     "output_type": "stream",
     "text": [
      "100%|██████████| 205/205 [02:13<00:00,  1.54it/s]\n",
      "100%|██████████| 102/102 [00:21<00:00,  4.64it/s]"
     ]
    },
    {
     "name": "stdout",
     "output_type": "stream",
     "text": [
      "Accuracy Score = {0.8536184210526315}\n",
      "5\n"
     ]
    },
    {
     "name": "stderr",
     "output_type": "stream",
     "text": [
      "\n",
      "100%|██████████| 205/205 [02:13<00:00,  1.54it/s]\n",
      "100%|██████████| 102/102 [00:22<00:00,  4.62it/s]"
     ]
    },
    {
     "name": "stdout",
     "output_type": "stream",
     "text": [
      "Accuracy Score = {0.850328947368421}\n",
      "6\n"
     ]
    },
    {
     "name": "stderr",
     "output_type": "stream",
     "text": [
      "\n",
      "100%|██████████| 205/205 [02:13<00:00,  1.54it/s]\n",
      "100%|██████████| 102/102 [00:22<00:00,  4.62it/s]"
     ]
    },
    {
     "name": "stdout",
     "output_type": "stream",
     "text": [
      "Accuracy Score = {0.8560855263157895}\n",
      "7\n"
     ]
    },
    {
     "name": "stderr",
     "output_type": "stream",
     "text": [
      "\n",
      "100%|██████████| 205/205 [02:13<00:00,  1.54it/s]\n",
      "100%|██████████| 102/102 [00:22<00:00,  4.59it/s]"
     ]
    },
    {
     "name": "stdout",
     "output_type": "stream",
     "text": [
      "Accuracy Score = {0.8552631578947368}\n",
      "8\n"
     ]
    },
    {
     "name": "stderr",
     "output_type": "stream",
     "text": [
      "\n",
      "100%|██████████| 205/205 [02:13<00:00,  1.54it/s]\n",
      "100%|██████████| 102/102 [00:22<00:00,  4.62it/s]"
     ]
    },
    {
     "name": "stdout",
     "output_type": "stream",
     "text": [
      "Accuracy Score = {0.8569078947368421}\n",
      "9\n"
     ]
    },
    {
     "name": "stderr",
     "output_type": "stream",
     "text": [
      "\n",
      "100%|██████████| 205/205 [02:13<00:00,  1.54it/s]\n",
      "100%|██████████| 102/102 [00:22<00:00,  4.61it/s]\n"
     ]
    },
    {
     "name": "stdout",
     "output_type": "stream",
     "text": [
      "Accuracy Score = {0.8585526315789473}\n"
     ]
    }
   ],
   "source": [
    "import pandas as pd\n",
    "import torch.nn as nn\n",
    "import numpy as np\n",
    "\n",
    "#from model import BERTBaseUncased\n",
    "from sklearn import model_selection\n",
    "from sklearn import metrics\n",
    "from transformers import AdamW\n",
    "from transformers import get_linear_schedule_with_warmup\n",
    "from sklearn import preprocessing\n",
    "\n",
    "def run():\n",
    "    \n",
    "    encoder = preprocessing.LabelEncoder()\n",
    "    train.loc[:, \"sentiment\"] = encoder.fit_transform(train[\"sentiment\"])\n",
    "    #dev_df.loc[:, \"label\"] = encoder.transform(dev_df[\"label\"])\n",
    "    test.loc[:, \"sentiment\"] = encoder.transform(test[\"sentiment\"])\n",
    "    \n",
    "    \n",
    "    train_dataset = BERTDataset(sentence1s = train.text.values, targets=train.sentiment.values)\n",
    "    \n",
    "    train_data_loader = torch.utils.data.DataLoader(train_dataset, batch_size=TRAIN_BATCH_SIZE, num_workers=4)\n",
    "    \n",
    "    valid_dataset = BERTDataset(sentence1s = test.text.values,targets=test.sentiment.values)\n",
    "    \n",
    "    valid_data_loader = torch.utils.data.DataLoader(valid_dataset, batch_size=VALID_BATCH_SIZE, num_workers=4)\n",
    "    \n",
    "    device = torch.device(\"cuda\")\n",
    "    model = BERTBaseUncased()\n",
    "    model.to(device)\n",
    "    \n",
    "    param_optimizer = list(model.named_parameters())\n",
    "    no_decay = [\"bias\", \"LayerNorm.bias\", \"LayerNorm.weight\"]\n",
    "    optimizer_parameters = [{\"params\": [p for n, p in param_optimizer if not any(nd in n for nd in no_decay)], \"weight_decay\": 0.001,},\n",
    "                            {\"params\": [p for n, p in param_optimizer if any(nd in n for nd in no_decay)], \"weight_decay\": 0.0,},]\n",
    "    num_train_steps = int(len(train) / TRAIN_BATCH_SIZE * EPOCHS)\n",
    "    optimizer = AdamW(optimizer_parameters, lr=3e-5)\n",
    "    scheduler = get_linear_schedule_with_warmup(optimizer, num_warmup_steps=0, num_training_steps=num_train_steps)\n",
    "    \n",
    "    model = nn.DataParallel(model)\n",
    "    \n",
    "    best_accuracy = 0\n",
    "    \n",
    "    for epoch in range(EPOCHS):\n",
    "        print(epoch)\n",
    "        train_fn(train_data_loader, model, optimizer, device, scheduler)\n",
    "        outputs, targets = eval_fn(valid_data_loader, model, device)\n",
    "        #pdb.set_trace()\n",
    "        outputs = torch.tensor(outputs)\n",
    "        outputs = torch.argmax(outputs, dim=1)\n",
    "        #outputs = np.array(outputs) >= 0.5\n",
    "        accuracy = metrics.accuracy_score(targets, outputs)\n",
    "        print(f\"Accuracy Score =\", {accuracy})\n",
    "        if accuracy > best_accuracy:\n",
    "            torch.save(model.state_dict(), MODEL_PATH)\n",
    "            best_accuracy = accuracy\n",
    "            \n",
    "if __name__ == \"__main__\":\n",
    "    run()\n"
   ]
  },
  {
   "cell_type": "code",
   "execution_count": 10,
   "metadata": {
    "execution": {
     "iopub.execute_input": "2020-08-10T21:10:48.297347Z",
     "iopub.status.busy": "2020-08-10T21:10:48.296403Z",
     "iopub.status.idle": "2020-08-10T21:10:48.299071Z",
     "shell.execute_reply": "2020-08-10T21:10:48.299511Z"
    },
    "papermill": {
     "duration": 1.074249,
     "end_time": "2020-08-10T21:10:48.299655",
     "exception": false,
     "start_time": "2020-08-10T21:10:47.225406",
     "status": "completed"
    },
    "tags": []
   },
   "outputs": [],
   "source": [
    "import torch\n",
    "import pandas as pd\n",
    "import torch.nn as nn\n",
    "import numpy as np\n",
    "\n",
    "#from model import BERTBaseUncased\n",
    "from sklearn import model_selection\n",
    "from sklearn import metrics\n",
    "from transformers import AdamW\n",
    "from transformers import get_linear_schedule_with_warmup\n",
    "from sklearn import preprocessing\n",
    "\n",
    "def prediction():\n",
    "    encoder = preprocessing.LabelEncoder()\n",
    "    train.loc[:, \"sentiment\"] = encoder.fit_transform(train[\"sentiment\"])\n",
    "    test.loc[:, \"sentiment\"] = encoder.fit_transform(test[\"sentiment\"])\n",
    "    \n",
    "    test_dataset = BERTDataset(sentence1s = test.text.values, targets=test.sentiment.values)\n",
    "    \n",
    "    test_data_loader = torch.utils.data.DataLoader(test_dataset, batch_size=VALID_BATCH_SIZE, num_workers=4)\n",
    "    \n",
    "    device = torch.device(\"cuda\")\n",
    "    model = BERTBaseUncased()\n",
    "    \n",
    "    model = nn.DataParallel(model)\n",
    "    model.load_state_dict(torch.load(MODEL_PATH))\n",
    "    model.to(device)\n",
    "    \n",
    "    outputs, targets = eval_fn(test_data_loader, model, device)\n",
    "    outputs = torch.tensor(outputs)\n",
    "    outputs = torch.argmax(outputs, dim=1)\n",
    "    out_df = pd.DataFrame({\"id\":test[\"id\"].values})\n",
    "    out_df['prediction'] = outputs\n",
    "    out_df.to_csv(\"test_submission.csv\", index=False)\n",
    "    accuracy_test = metrics.accuracy_score(targets, outputs)\n",
    "    print(f\"Accuracy Score =\", {accuracy_test})\n",
    "    "
   ]
  },
  {
   "cell_type": "code",
   "execution_count": 11,
   "metadata": {
    "execution": {
     "iopub.execute_input": "2020-08-10T21:10:50.478251Z",
     "iopub.status.busy": "2020-08-10T21:10:50.476939Z",
     "iopub.status.idle": "2020-08-10T21:11:15.742749Z",
     "shell.execute_reply": "2020-08-10T21:11:15.742173Z"
    },
    "papermill": {
     "duration": 26.386757,
     "end_time": "2020-08-10T21:11:15.742891",
     "exception": false,
     "start_time": "2020-08-10T21:10:49.356134",
     "status": "completed"
    },
    "tags": []
   },
   "outputs": [
    {
     "name": "stderr",
     "output_type": "stream",
     "text": [
      "100%|██████████| 102/102 [00:22<00:00,  4.60it/s]\n"
     ]
    },
    {
     "name": "stdout",
     "output_type": "stream",
     "text": [
      "Accuracy Score = {0.8585526315789473}\n"
     ]
    }
   ],
   "source": [
    "prediction()\n"
   ]
  }
 ],
 "metadata": {
  "kernelspec": {
   "display_name": "Python 3",
   "language": "python",
   "name": "python3"
  },
  "language_info": {
   "codemirror_mode": {
    "name": "ipython",
    "version": 3
   },
   "file_extension": ".py",
   "mimetype": "text/x-python",
   "name": "python",
   "nbconvert_exporter": "python",
   "pygments_lexer": "ipython3",
   "version": "3.7.6"
  },
  "papermill": {
   "duration": 1615.728719,
   "end_time": "2020-08-10T21:11:18.384154",
   "environment_variables": {},
   "exception": null,
   "input_path": "__notebook__.ipynb",
   "output_path": "__notebook__.ipynb",
   "parameters": {},
   "start_time": "2020-08-10T20:44:22.655435",
   "version": "2.1.0"
  }
 },
 "nbformat": 4,
 "nbformat_minor": 4
}
