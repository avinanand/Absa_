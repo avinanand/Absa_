{
 "cells": [
  {
   "cell_type": "code",
   "execution_count": 1,
   "metadata": {
    "_cell_guid": "b1076dfc-b9ad-4769-8c92-a6c4dae69d19",
    "_uuid": "8f2839f25d086af736a60e9eeb907d3b93b6e0e5",
    "execution": {
     "iopub.execute_input": "2020-08-10T12:31:57.623556Z",
     "iopub.status.busy": "2020-08-10T12:31:57.622835Z",
     "iopub.status.idle": "2020-08-10T12:31:57.653129Z",
     "shell.execute_reply": "2020-08-10T12:31:57.653681Z"
    },
    "papermill": {
     "duration": 0.061129,
     "end_time": "2020-08-10T12:31:57.653948",
     "exception": false,
     "start_time": "2020-08-10T12:31:57.592819",
     "status": "completed"
    },
    "tags": []
   },
   "outputs": [
    {
     "name": "stdout",
     "output_type": "stream",
     "text": [
      "/kaggle/input/absa-dataset/input/bert-single/loc1_safety/train.tsv\n",
      "/kaggle/input/absa-dataset/input/bert-single/loc1_safety/test.tsv\n",
      "/kaggle/input/absa-dataset/input/bert-single/loc1_safety/dev.tsv\n",
      "/kaggle/input/absa-dataset/input/bert-single/loc1_general/train.tsv\n",
      "/kaggle/input/absa-dataset/input/bert-single/loc1_general/test.tsv\n",
      "/kaggle/input/absa-dataset/input/bert-single/loc1_general/dev.tsv\n",
      "/kaggle/input/absa-dataset/input/bert-single/loc2_safety/train.tsv\n",
      "/kaggle/input/absa-dataset/input/bert-single/loc2_safety/test.tsv\n",
      "/kaggle/input/absa-dataset/input/bert-single/loc2_safety/dev.tsv\n",
      "/kaggle/input/absa-dataset/input/bert-single/loc1_price/train.tsv\n",
      "/kaggle/input/absa-dataset/input/bert-single/loc1_price/test.tsv\n",
      "/kaggle/input/absa-dataset/input/bert-single/loc1_price/dev.tsv\n",
      "/kaggle/input/absa-dataset/input/bert-single/loc2_transit/train.tsv\n",
      "/kaggle/input/absa-dataset/input/bert-single/loc2_transit/test.tsv\n",
      "/kaggle/input/absa-dataset/input/bert-single/loc2_transit/dev.tsv\n",
      "/kaggle/input/absa-dataset/input/bert-single/loc1_transit/train.tsv\n",
      "/kaggle/input/absa-dataset/input/bert-single/loc1_transit/test.tsv\n",
      "/kaggle/input/absa-dataset/input/bert-single/loc1_transit/dev.tsv\n",
      "/kaggle/input/absa-dataset/input/bert-single/loc2_general/train.tsv\n",
      "/kaggle/input/absa-dataset/input/bert-single/loc2_general/test.tsv\n",
      "/kaggle/input/absa-dataset/input/bert-single/loc2_general/dev.tsv\n",
      "/kaggle/input/absa-dataset/input/bert-single/loc2_price/train.tsv\n",
      "/kaggle/input/absa-dataset/input/bert-single/loc2_price/test.tsv\n",
      "/kaggle/input/absa-dataset/input/bert-single/loc2_price/dev.tsv\n",
      "/kaggle/input/absa-dataset/input/bert-pair/test_NLI_M.tsv\n",
      "/kaggle/input/absa-dataset/input/bert-pair/dev_QA_B.tsv\n",
      "/kaggle/input/absa-dataset/input/bert-pair/train_QA_M.tsv\n",
      "/kaggle/input/absa-dataset/input/bert-pair/train_NLI_M.tsv\n",
      "/kaggle/input/absa-dataset/input/bert-pair/train_NLI_B.tsv\n",
      "/kaggle/input/absa-dataset/input/bert-pair/dev_NLI_M.tsv\n",
      "/kaggle/input/absa-dataset/input/bert-pair/train_QA_B.tsv\n",
      "/kaggle/input/absa-dataset/input/bert-pair/dev_NLI_B.tsv\n",
      "/kaggle/input/absa-dataset/input/bert-pair/test_NLI_B.tsv\n",
      "/kaggle/input/absa-dataset/input/bert-pair/test_QA_M.tsv\n",
      "/kaggle/input/absa-dataset/input/bert-pair/dev_QA_M.tsv\n",
      "/kaggle/input/absa-dataset/input/bert-pair/test_QA_B.tsv\n",
      "/kaggle/input/absa-dataset/input/sentihood/sentihood-test.json\n",
      "/kaggle/input/absa-dataset/input/sentihood/sentihood-dev.json\n",
      "/kaggle/input/absa-dataset/input/sentihood/sentihood-train.json\n",
      "/kaggle/input/bert-base-uncased/vocab.txt\n",
      "/kaggle/input/bert-base-uncased/pytorch_model.bin\n",
      "/kaggle/input/bert-base-uncased/config.json\n"
     ]
    }
   ],
   "source": [
    "\n",
    "import numpy as np # linear algebra\n",
    "import pandas as pd # data processing, CSV file I/O (e.g. pd.read_csv)\n",
    "\n",
    "import os\n",
    "for dirname, _, filenames in os.walk('/kaggle/input'):\n",
    "    for filename in filenames:\n",
    "        print(os.path.join(dirname, filename))"
   ]
  },
  {
   "cell_type": "code",
   "execution_count": 2,
   "metadata": {
    "execution": {
     "iopub.execute_input": "2020-08-10T12:31:57.707923Z",
     "iopub.status.busy": "2020-08-10T12:31:57.706842Z",
     "iopub.status.idle": "2020-08-10T12:31:57.710028Z",
     "shell.execute_reply": "2020-08-10T12:31:57.709343Z"
    },
    "papermill": {
     "duration": 0.030954,
     "end_time": "2020-08-10T12:31:57.710130",
     "exception": false,
     "start_time": "2020-08-10T12:31:57.679176",
     "status": "completed"
    },
    "tags": []
   },
   "outputs": [],
   "source": [
    "data_dir ='/kaggle/input/absa-dataset/input/sentihood/'"
   ]
  },
  {
   "cell_type": "code",
   "execution_count": 3,
   "metadata": {
    "execution": {
     "iopub.execute_input": "2020-08-10T12:31:57.763947Z",
     "iopub.status.busy": "2020-08-10T12:31:57.763016Z",
     "iopub.status.idle": "2020-08-10T12:31:57.766379Z",
     "shell.execute_reply": "2020-08-10T12:31:57.765725Z"
    },
    "papermill": {
     "duration": 0.031958,
     "end_time": "2020-08-10T12:31:57.766481",
     "exception": false,
     "start_time": "2020-08-10T12:31:57.734523",
     "status": "completed"
    },
    "tags": []
   },
   "outputs": [],
   "source": [
    "in_file = os.path.join(data_dir, 'sentihood-train.json')"
   ]
  },
  {
   "cell_type": "code",
   "execution_count": 4,
   "metadata": {
    "execution": {
     "iopub.execute_input": "2020-08-10T12:31:57.825963Z",
     "iopub.status.busy": "2020-08-10T12:31:57.825128Z",
     "iopub.status.idle": "2020-08-10T12:31:57.828045Z",
     "shell.execute_reply": "2020-08-10T12:31:57.827485Z"
    },
    "papermill": {
     "duration": 0.035041,
     "end_time": "2020-08-10T12:31:57.828141",
     "exception": false,
     "start_time": "2020-08-10T12:31:57.793100",
     "status": "completed"
    },
    "tags": []
   },
   "outputs": [],
   "source": [
    "def parse_sentihood_json(in_file):\n",
    "    with open(in_file) as f:\n",
    "        data = json.load(f)\n",
    "    ret = []\n",
    "    for d in data:\n",
    "        text = d['text']\n",
    "        sent_id = d['id']\n",
    "        opinions = []\n",
    "        targets = set()\n",
    "        for opinion in d['opinions']:\n",
    "            sentiment = opinion['sentiment']\n",
    "            aspect = opinion['aspect']\n",
    "            target_entity = opinion['target_entity']\n",
    "            targets.add(target_entity)\n",
    "            opinions.append((target_entity, aspect, sentiment))\n",
    "        ret.append((sent_id, text, opinions))\n",
    "    return ret"
   ]
  },
  {
   "cell_type": "code",
   "execution_count": 5,
   "metadata": {
    "execution": {
     "iopub.execute_input": "2020-08-10T12:31:57.880674Z",
     "iopub.status.busy": "2020-08-10T12:31:57.880017Z",
     "iopub.status.idle": "2020-08-10T12:31:57.958714Z",
     "shell.execute_reply": "2020-08-10T12:31:57.959409Z"
    },
    "papermill": {
     "duration": 0.106975,
     "end_time": "2020-08-10T12:31:57.959579",
     "exception": false,
     "start_time": "2020-08-10T12:31:57.852604",
     "status": "completed"
    },
    "tags": []
   },
   "outputs": [],
   "source": [
    "import json\n",
    "\n",
    "train = parse_sentihood_json(in_file)"
   ]
  },
  {
   "cell_type": "code",
   "execution_count": 6,
   "metadata": {
    "execution": {
     "iopub.execute_input": "2020-08-10T12:31:58.016107Z",
     "iopub.status.busy": "2020-08-10T12:31:58.015283Z",
     "iopub.status.idle": "2020-08-10T12:31:58.018100Z",
     "shell.execute_reply": "2020-08-10T12:31:58.018601Z"
    },
    "papermill": {
     "duration": 0.032594,
     "end_time": "2020-08-10T12:31:58.018771",
     "exception": false,
     "start_time": "2020-08-10T12:31:57.986177",
     "status": "completed"
    },
    "tags": []
   },
   "outputs": [],
   "source": [
    "test_file = os.path.join(data_dir, 'sentihood-test.json')"
   ]
  },
  {
   "cell_type": "code",
   "execution_count": 7,
   "metadata": {
    "execution": {
     "iopub.execute_input": "2020-08-10T12:31:58.073517Z",
     "iopub.status.busy": "2020-08-10T12:31:58.072928Z",
     "iopub.status.idle": "2020-08-10T12:31:58.089245Z",
     "shell.execute_reply": "2020-08-10T12:31:58.088731Z"
    },
    "papermill": {
     "duration": 0.044181,
     "end_time": "2020-08-10T12:31:58.089351",
     "exception": false,
     "start_time": "2020-08-10T12:31:58.045170",
     "status": "completed"
    },
    "tags": []
   },
   "outputs": [],
   "source": [
    "test = parse_sentihood_json(test_file)"
   ]
  },
  {
   "cell_type": "code",
   "execution_count": 8,
   "metadata": {
    "execution": {
     "iopub.execute_input": "2020-08-10T12:31:58.150404Z",
     "iopub.status.busy": "2020-08-10T12:31:58.148598Z",
     "iopub.status.idle": "2020-08-10T12:31:58.151172Z",
     "shell.execute_reply": "2020-08-10T12:31:58.151654Z"
    },
    "papermill": {
     "duration": 0.034961,
     "end_time": "2020-08-10T12:31:58.151806",
     "exception": false,
     "start_time": "2020-08-10T12:31:58.116845",
     "status": "completed"
    },
    "tags": []
   },
   "outputs": [],
   "source": [
    "all_aspects = ['general', 'price', 'transit-location', 'safety']\n",
    "def convert_input(data):\n",
    "    ret = []\n",
    "    for sent_id, text, opinions in data:\n",
    "        for target_entity, aspect, sentiment in opinions:\n",
    "            if aspect not in all_aspects:\n",
    "                continue\n",
    "            ret.append((sent_id, text, target_entity, aspect, sentiment))\n",
    "    return ret"
   ]
  },
  {
   "cell_type": "code",
   "execution_count": 9,
   "metadata": {
    "execution": {
     "iopub.execute_input": "2020-08-10T12:31:58.214836Z",
     "iopub.status.busy": "2020-08-10T12:31:58.214173Z",
     "iopub.status.idle": "2020-08-10T12:31:58.244463Z",
     "shell.execute_reply": "2020-08-10T12:31:58.243594Z"
    },
    "papermill": {
     "duration": 0.06773,
     "end_time": "2020-08-10T12:31:58.244568",
     "exception": false,
     "start_time": "2020-08-10T12:31:58.176838",
     "status": "completed"
    },
    "tags": []
   },
   "outputs": [],
   "source": [
    "test = convert_input(test)\n",
    "test = pd.DataFrame(test)\n",
    "\n",
    "test['id'] = test[0]\n",
    "test['text'] = test[1]\n",
    "test['target_entity'] = test[2]\n",
    "test['label'] = test[3]\n",
    "test['sentiment'] = test[4]\n",
    "\n",
    "test = test.drop(0, axis=1)\n",
    "test = test.drop(1, axis = 1)\n",
    "test = test.drop(2, axis = 1)\n",
    "test = test.drop(3, axis=1)\n",
    "test = test.drop(4, axis=1)"
   ]
  },
  {
   "cell_type": "code",
   "execution_count": 10,
   "metadata": {
    "execution": {
     "iopub.execute_input": "2020-08-10T12:31:58.305048Z",
     "iopub.status.busy": "2020-08-10T12:31:58.304387Z",
     "iopub.status.idle": "2020-08-10T12:31:58.313551Z",
     "shell.execute_reply": "2020-08-10T12:31:58.313068Z"
    },
    "papermill": {
     "duration": 0.043394,
     "end_time": "2020-08-10T12:31:58.313652",
     "exception": false,
     "start_time": "2020-08-10T12:31:58.270258",
     "status": "completed"
    },
    "tags": []
   },
   "outputs": [
    {
     "data": {
      "text/html": [
       "<div>\n",
       "<style scoped>\n",
       "    .dataframe tbody tr th:only-of-type {\n",
       "        vertical-align: middle;\n",
       "    }\n",
       "\n",
       "    .dataframe tbody tr th {\n",
       "        vertical-align: top;\n",
       "    }\n",
       "\n",
       "    .dataframe thead th {\n",
       "        text-align: right;\n",
       "    }\n",
       "</style>\n",
       "<table border=\"1\" class=\"dataframe\">\n",
       "  <thead>\n",
       "    <tr style=\"text-align: right;\">\n",
       "      <th></th>\n",
       "      <th>id</th>\n",
       "      <th>text</th>\n",
       "      <th>target_entity</th>\n",
       "      <th>label</th>\n",
       "      <th>sentiment</th>\n",
       "    </tr>\n",
       "  </thead>\n",
       "  <tbody>\n",
       "    <tr>\n",
       "      <th>0</th>\n",
       "      <td>153</td>\n",
       "      <td>LOCATION1 is in Greater London  and is a ve...</td>\n",
       "      <td>LOCATION1</td>\n",
       "      <td>safety</td>\n",
       "      <td>Positive</td>\n",
       "    </tr>\n",
       "    <tr>\n",
       "      <th>1</th>\n",
       "      <td>1130</td>\n",
       "      <td>All the neighborhoods around LOCATION1 are v...</td>\n",
       "      <td>LOCATION1</td>\n",
       "      <td>general</td>\n",
       "      <td>Positive</td>\n",
       "    </tr>\n",
       "    <tr>\n",
       "      <th>2</th>\n",
       "      <td>1130</td>\n",
       "      <td>All the neighborhoods around LOCATION1 are v...</td>\n",
       "      <td>LOCATION1</td>\n",
       "      <td>safety</td>\n",
       "      <td>Positive</td>\n",
       "    </tr>\n",
       "    <tr>\n",
       "      <th>3</th>\n",
       "      <td>1271</td>\n",
       "      <td>Cheap is LOCATION2, LOCATION1, but not reall...</td>\n",
       "      <td>LOCATION1</td>\n",
       "      <td>general</td>\n",
       "      <td>Negative</td>\n",
       "    </tr>\n",
       "    <tr>\n",
       "      <th>4</th>\n",
       "      <td>1271</td>\n",
       "      <td>Cheap is LOCATION2, LOCATION1, but not reall...</td>\n",
       "      <td>LOCATION1</td>\n",
       "      <td>price</td>\n",
       "      <td>Positive</td>\n",
       "    </tr>\n",
       "  </tbody>\n",
       "</table>\n",
       "</div>"
      ],
      "text/plain": [
       "     id                                               text target_entity  \\\n",
       "0   153     LOCATION1 is in Greater London  and is a ve...     LOCATION1   \n",
       "1  1130    All the neighborhoods around LOCATION1 are v...     LOCATION1   \n",
       "2  1130    All the neighborhoods around LOCATION1 are v...     LOCATION1   \n",
       "3  1271    Cheap is LOCATION2, LOCATION1, but not reall...     LOCATION1   \n",
       "4  1271    Cheap is LOCATION2, LOCATION1, but not reall...     LOCATION1   \n",
       "\n",
       "     label sentiment  \n",
       "0   safety  Positive  \n",
       "1  general  Positive  \n",
       "2   safety  Positive  \n",
       "3  general  Negative  \n",
       "4    price  Positive  "
      ]
     },
     "execution_count": 10,
     "metadata": {},
     "output_type": "execute_result"
    }
   ],
   "source": [
    "test.head()"
   ]
  },
  {
   "cell_type": "code",
   "execution_count": 11,
   "metadata": {
    "execution": {
     "iopub.execute_input": "2020-08-10T12:31:58.384233Z",
     "iopub.status.busy": "2020-08-10T12:31:58.383179Z",
     "iopub.status.idle": "2020-08-10T12:31:58.392735Z",
     "shell.execute_reply": "2020-08-10T12:31:58.392201Z"
    },
    "papermill": {
     "duration": 0.052762,
     "end_time": "2020-08-10T12:31:58.392840",
     "exception": false,
     "start_time": "2020-08-10T12:31:58.340078",
     "status": "completed"
    },
    "tags": []
   },
   "outputs": [],
   "source": [
    "train = convert_input(train)\n",
    "train = pd.DataFrame(train)\n",
    "\n",
    "train['id'] = train[0]\n",
    "train['text'] = train[1]\n",
    "train['target_entity'] = train[2]\n",
    "train['label'] = train[3]\n",
    "train['sentiment'] = train[4]\n",
    "\n",
    "train = train.drop(0, axis=1)\n",
    "train = train.drop(1, axis = 1)\n",
    "train = train.drop(2, axis = 1)\n",
    "train = train.drop(3, axis=1)\n",
    "train = train.drop(4, axis=1)"
   ]
  },
  {
   "cell_type": "code",
   "execution_count": 12,
   "metadata": {
    "execution": {
     "iopub.execute_input": "2020-08-10T12:31:58.455479Z",
     "iopub.status.busy": "2020-08-10T12:31:58.454568Z",
     "iopub.status.idle": "2020-08-10T12:31:58.458635Z",
     "shell.execute_reply": "2020-08-10T12:31:58.458171Z"
    },
    "papermill": {
     "duration": 0.040513,
     "end_time": "2020-08-10T12:31:58.458767",
     "exception": false,
     "start_time": "2020-08-10T12:31:58.418254",
     "status": "completed"
    },
    "tags": []
   },
   "outputs": [
    {
     "data": {
      "text/html": [
       "<div>\n",
       "<style scoped>\n",
       "    .dataframe tbody tr th:only-of-type {\n",
       "        vertical-align: middle;\n",
       "    }\n",
       "\n",
       "    .dataframe tbody tr th {\n",
       "        vertical-align: top;\n",
       "    }\n",
       "\n",
       "    .dataframe thead th {\n",
       "        text-align: right;\n",
       "    }\n",
       "</style>\n",
       "<table border=\"1\" class=\"dataframe\">\n",
       "  <thead>\n",
       "    <tr style=\"text-align: right;\">\n",
       "      <th></th>\n",
       "      <th>id</th>\n",
       "      <th>text</th>\n",
       "      <th>target_entity</th>\n",
       "      <th>label</th>\n",
       "      <th>sentiment</th>\n",
       "    </tr>\n",
       "  </thead>\n",
       "  <tbody>\n",
       "    <tr>\n",
       "      <th>0</th>\n",
       "      <td>1430</td>\n",
       "      <td>LOCATION1 is transforming and the prices w...</td>\n",
       "      <td>LOCATION1</td>\n",
       "      <td>price</td>\n",
       "      <td>Negative</td>\n",
       "    </tr>\n",
       "    <tr>\n",
       "      <th>1</th>\n",
       "      <td>1244</td>\n",
       "      <td>And LOCATION1 is ten mins direct on the tube...</td>\n",
       "      <td>LOCATION1</td>\n",
       "      <td>transit-location</td>\n",
       "      <td>Positive</td>\n",
       "    </tr>\n",
       "    <tr>\n",
       "      <th>2</th>\n",
       "      <td>209</td>\n",
       "      <td>Another option is LOCATION1 which is very ce...</td>\n",
       "      <td>LOCATION1</td>\n",
       "      <td>transit-location</td>\n",
       "      <td>Positive</td>\n",
       "    </tr>\n",
       "    <tr>\n",
       "      <th>3</th>\n",
       "      <td>2824</td>\n",
       "      <td>Best bet is around LOCATION2 and LOCATION1 a...</td>\n",
       "      <td>LOCATION1</td>\n",
       "      <td>general</td>\n",
       "      <td>Positive</td>\n",
       "    </tr>\n",
       "    <tr>\n",
       "      <th>4</th>\n",
       "      <td>2824</td>\n",
       "      <td>Best bet is around LOCATION2 and LOCATION1 a...</td>\n",
       "      <td>LOCATION2</td>\n",
       "      <td>general</td>\n",
       "      <td>Positive</td>\n",
       "    </tr>\n",
       "  </tbody>\n",
       "</table>\n",
       "</div>"
      ],
      "text/plain": [
       "     id                                               text target_entity  \\\n",
       "0  1430      LOCATION1 is transforming and the prices w...     LOCATION1   \n",
       "1  1244    And LOCATION1 is ten mins direct on the tube...     LOCATION1   \n",
       "2   209    Another option is LOCATION1 which is very ce...     LOCATION1   \n",
       "3  2824    Best bet is around LOCATION2 and LOCATION1 a...     LOCATION1   \n",
       "4  2824    Best bet is around LOCATION2 and LOCATION1 a...     LOCATION2   \n",
       "\n",
       "              label sentiment  \n",
       "0             price  Negative  \n",
       "1  transit-location  Positive  \n",
       "2  transit-location  Positive  \n",
       "3           general  Positive  \n",
       "4           general  Positive  "
      ]
     },
     "execution_count": 12,
     "metadata": {},
     "output_type": "execute_result"
    }
   ],
   "source": [
    "train.head()"
   ]
  },
  {
   "cell_type": "code",
   "execution_count": 13,
   "metadata": {
    "execution": {
     "iopub.execute_input": "2020-08-10T12:31:58.516931Z",
     "iopub.status.busy": "2020-08-10T12:31:58.516347Z",
     "iopub.status.idle": "2020-08-10T12:31:58.548348Z",
     "shell.execute_reply": "2020-08-10T12:31:58.547747Z"
    },
    "papermill": {
     "duration": 0.062552,
     "end_time": "2020-08-10T12:31:58.548451",
     "exception": false,
     "start_time": "2020-08-10T12:31:58.485899",
     "status": "completed"
    },
    "tags": []
   },
   "outputs": [
    {
     "data": {
      "text/html": [
       "<div>\n",
       "<style scoped>\n",
       "    .dataframe tbody tr th:only-of-type {\n",
       "        vertical-align: middle;\n",
       "    }\n",
       "\n",
       "    .dataframe tbody tr th {\n",
       "        vertical-align: top;\n",
       "    }\n",
       "\n",
       "    .dataframe thead th {\n",
       "        text-align: right;\n",
       "    }\n",
       "</style>\n",
       "<table border=\"1\" class=\"dataframe\">\n",
       "  <thead>\n",
       "    <tr style=\"text-align: right;\">\n",
       "      <th></th>\n",
       "      <th>id</th>\n",
       "      <th>text</th>\n",
       "      <th>target_entity</th>\n",
       "      <th>label</th>\n",
       "      <th>sentiment</th>\n",
       "    </tr>\n",
       "  </thead>\n",
       "  <tbody>\n",
       "    <tr>\n",
       "      <th>0</th>\n",
       "      <td>153</td>\n",
       "      <td>LOCATION1 is in Greater London  and is a ve...</td>\n",
       "      <td>LOCATION1</td>\n",
       "      <td>safety</td>\n",
       "      <td>Positive</td>\n",
       "    </tr>\n",
       "    <tr>\n",
       "      <th>1</th>\n",
       "      <td>1130</td>\n",
       "      <td>All the neighborhoods around LOCATION1 are v...</td>\n",
       "      <td>LOCATION1</td>\n",
       "      <td>general</td>\n",
       "      <td>Positive</td>\n",
       "    </tr>\n",
       "    <tr>\n",
       "      <th>2</th>\n",
       "      <td>1130</td>\n",
       "      <td>All the neighborhoods around LOCATION1 are v...</td>\n",
       "      <td>LOCATION1</td>\n",
       "      <td>safety</td>\n",
       "      <td>Positive</td>\n",
       "    </tr>\n",
       "    <tr>\n",
       "      <th>3</th>\n",
       "      <td>1271</td>\n",
       "      <td>Cheap is LOCATION2, LOCATION1, but not reall...</td>\n",
       "      <td>LOCATION1</td>\n",
       "      <td>general</td>\n",
       "      <td>Negative</td>\n",
       "    </tr>\n",
       "    <tr>\n",
       "      <th>4</th>\n",
       "      <td>1271</td>\n",
       "      <td>Cheap is LOCATION2, LOCATION1, but not reall...</td>\n",
       "      <td>LOCATION1</td>\n",
       "      <td>price</td>\n",
       "      <td>Positive</td>\n",
       "    </tr>\n",
       "  </tbody>\n",
       "</table>\n",
       "</div>"
      ],
      "text/plain": [
       "     id                                               text target_entity  \\\n",
       "0   153     LOCATION1 is in Greater London  and is a ve...     LOCATION1   \n",
       "1  1130    All the neighborhoods around LOCATION1 are v...     LOCATION1   \n",
       "2  1130    All the neighborhoods around LOCATION1 are v...     LOCATION1   \n",
       "3  1271    Cheap is LOCATION2, LOCATION1, but not reall...     LOCATION1   \n",
       "4  1271    Cheap is LOCATION2, LOCATION1, but not reall...     LOCATION1   \n",
       "\n",
       "     label sentiment  \n",
       "0   safety  Positive  \n",
       "1  general  Positive  \n",
       "2   safety  Positive  \n",
       "3  general  Negative  \n",
       "4    price  Positive  "
      ]
     },
     "execution_count": 13,
     "metadata": {},
     "output_type": "execute_result"
    }
   ],
   "source": [
    "test['text'] = test['text'] + ' ' + test['target_entity']\n",
    "test.head()"
   ]
  },
  {
   "cell_type": "code",
   "execution_count": 14,
   "metadata": {
    "execution": {
     "iopub.execute_input": "2020-08-10T12:31:58.616341Z",
     "iopub.status.busy": "2020-08-10T12:31:58.615438Z",
     "iopub.status.idle": "2020-08-10T12:31:58.619015Z",
     "shell.execute_reply": "2020-08-10T12:31:58.619495Z"
    },
    "papermill": {
     "duration": 0.043239,
     "end_time": "2020-08-10T12:31:58.619608",
     "exception": false,
     "start_time": "2020-08-10T12:31:58.576369",
     "status": "completed"
    },
    "tags": []
   },
   "outputs": [
    {
     "data": {
      "text/html": [
       "<div>\n",
       "<style scoped>\n",
       "    .dataframe tbody tr th:only-of-type {\n",
       "        vertical-align: middle;\n",
       "    }\n",
       "\n",
       "    .dataframe tbody tr th {\n",
       "        vertical-align: top;\n",
       "    }\n",
       "\n",
       "    .dataframe thead th {\n",
       "        text-align: right;\n",
       "    }\n",
       "</style>\n",
       "<table border=\"1\" class=\"dataframe\">\n",
       "  <thead>\n",
       "    <tr style=\"text-align: right;\">\n",
       "      <th></th>\n",
       "      <th>id</th>\n",
       "      <th>text</th>\n",
       "      <th>target_entity</th>\n",
       "      <th>label</th>\n",
       "      <th>sentiment</th>\n",
       "    </tr>\n",
       "  </thead>\n",
       "  <tbody>\n",
       "    <tr>\n",
       "      <th>0</th>\n",
       "      <td>1430</td>\n",
       "      <td>LOCATION1 is transforming and the prices w...</td>\n",
       "      <td>LOCATION1</td>\n",
       "      <td>price</td>\n",
       "      <td>Negative</td>\n",
       "    </tr>\n",
       "    <tr>\n",
       "      <th>1</th>\n",
       "      <td>1244</td>\n",
       "      <td>And LOCATION1 is ten mins direct on the tube...</td>\n",
       "      <td>LOCATION1</td>\n",
       "      <td>transit-location</td>\n",
       "      <td>Positive</td>\n",
       "    </tr>\n",
       "    <tr>\n",
       "      <th>2</th>\n",
       "      <td>209</td>\n",
       "      <td>Another option is LOCATION1 which is very ce...</td>\n",
       "      <td>LOCATION1</td>\n",
       "      <td>transit-location</td>\n",
       "      <td>Positive</td>\n",
       "    </tr>\n",
       "    <tr>\n",
       "      <th>3</th>\n",
       "      <td>2824</td>\n",
       "      <td>Best bet is around LOCATION2 and LOCATION1 a...</td>\n",
       "      <td>LOCATION1</td>\n",
       "      <td>general</td>\n",
       "      <td>Positive</td>\n",
       "    </tr>\n",
       "    <tr>\n",
       "      <th>4</th>\n",
       "      <td>2824</td>\n",
       "      <td>Best bet is around LOCATION2 and LOCATION1 a...</td>\n",
       "      <td>LOCATION2</td>\n",
       "      <td>general</td>\n",
       "      <td>Positive</td>\n",
       "    </tr>\n",
       "  </tbody>\n",
       "</table>\n",
       "</div>"
      ],
      "text/plain": [
       "     id                                               text target_entity  \\\n",
       "0  1430      LOCATION1 is transforming and the prices w...     LOCATION1   \n",
       "1  1244    And LOCATION1 is ten mins direct on the tube...     LOCATION1   \n",
       "2   209    Another option is LOCATION1 which is very ce...     LOCATION1   \n",
       "3  2824    Best bet is around LOCATION2 and LOCATION1 a...     LOCATION1   \n",
       "4  2824    Best bet is around LOCATION2 and LOCATION1 a...     LOCATION2   \n",
       "\n",
       "              label sentiment  \n",
       "0             price  Negative  \n",
       "1  transit-location  Positive  \n",
       "2  transit-location  Positive  \n",
       "3           general  Positive  \n",
       "4           general  Positive  "
      ]
     },
     "execution_count": 14,
     "metadata": {},
     "output_type": "execute_result"
    }
   ],
   "source": [
    "train['text'] = train['text'] + ' ' + train['target_entity']\n",
    "#test_df['sentence1'] = test_df['sentence1'] + ' ' + test_df['sentence2'] + ' ' + test_df['label']\n",
    "train.head(5)"
   ]
  },
  {
   "cell_type": "code",
   "execution_count": 15,
   "metadata": {
    "execution": {
     "iopub.execute_input": "2020-08-10T12:31:58.681817Z",
     "iopub.status.busy": "2020-08-10T12:31:58.680932Z",
     "iopub.status.idle": "2020-08-10T12:31:58.683373Z",
     "shell.execute_reply": "2020-08-10T12:31:58.683834Z"
    },
    "papermill": {
     "duration": 0.036471,
     "end_time": "2020-08-10T12:31:58.683954",
     "exception": false,
     "start_time": "2020-08-10T12:31:58.647483",
     "status": "completed"
    },
    "tags": []
   },
   "outputs": [],
   "source": [
    "train=train.drop([\"target_entity\"],axis=1)\n"
   ]
  },
  {
   "cell_type": "code",
   "execution_count": 16,
   "metadata": {
    "execution": {
     "iopub.execute_input": "2020-08-10T12:31:58.745252Z",
     "iopub.status.busy": "2020-08-10T12:31:58.744471Z",
     "iopub.status.idle": "2020-08-10T12:31:58.747530Z",
     "shell.execute_reply": "2020-08-10T12:31:58.747059Z"
    },
    "papermill": {
     "duration": 0.035605,
     "end_time": "2020-08-10T12:31:58.747625",
     "exception": false,
     "start_time": "2020-08-10T12:31:58.712020",
     "status": "completed"
    },
    "tags": []
   },
   "outputs": [],
   "source": [
    "test = test.drop([\"target_entity\"], axis=1)"
   ]
  },
  {
   "cell_type": "code",
   "execution_count": 17,
   "metadata": {
    "execution": {
     "iopub.execute_input": "2020-08-10T12:31:58.814658Z",
     "iopub.status.busy": "2020-08-10T12:31:58.813774Z",
     "iopub.status.idle": "2020-08-10T12:31:58.817315Z",
     "shell.execute_reply": "2020-08-10T12:31:58.817846Z"
    },
    "papermill": {
     "duration": 0.04138,
     "end_time": "2020-08-10T12:31:58.817962",
     "exception": false,
     "start_time": "2020-08-10T12:31:58.776582",
     "status": "completed"
    },
    "tags": []
   },
   "outputs": [
    {
     "data": {
      "text/html": [
       "<div>\n",
       "<style scoped>\n",
       "    .dataframe tbody tr th:only-of-type {\n",
       "        vertical-align: middle;\n",
       "    }\n",
       "\n",
       "    .dataframe tbody tr th {\n",
       "        vertical-align: top;\n",
       "    }\n",
       "\n",
       "    .dataframe thead th {\n",
       "        text-align: right;\n",
       "    }\n",
       "</style>\n",
       "<table border=\"1\" class=\"dataframe\">\n",
       "  <thead>\n",
       "    <tr style=\"text-align: right;\">\n",
       "      <th></th>\n",
       "      <th>id</th>\n",
       "      <th>text</th>\n",
       "      <th>label</th>\n",
       "      <th>sentiment</th>\n",
       "    </tr>\n",
       "  </thead>\n",
       "  <tbody>\n",
       "    <tr>\n",
       "      <th>0</th>\n",
       "      <td>153</td>\n",
       "      <td>LOCATION1 is in Greater London  and is a ve...</td>\n",
       "      <td>safety</td>\n",
       "      <td>Positive</td>\n",
       "    </tr>\n",
       "    <tr>\n",
       "      <th>1</th>\n",
       "      <td>1130</td>\n",
       "      <td>All the neighborhoods around LOCATION1 are v...</td>\n",
       "      <td>general</td>\n",
       "      <td>Positive</td>\n",
       "    </tr>\n",
       "    <tr>\n",
       "      <th>2</th>\n",
       "      <td>1130</td>\n",
       "      <td>All the neighborhoods around LOCATION1 are v...</td>\n",
       "      <td>safety</td>\n",
       "      <td>Positive</td>\n",
       "    </tr>\n",
       "    <tr>\n",
       "      <th>3</th>\n",
       "      <td>1271</td>\n",
       "      <td>Cheap is LOCATION2, LOCATION1, but not reall...</td>\n",
       "      <td>general</td>\n",
       "      <td>Negative</td>\n",
       "    </tr>\n",
       "    <tr>\n",
       "      <th>4</th>\n",
       "      <td>1271</td>\n",
       "      <td>Cheap is LOCATION2, LOCATION1, but not reall...</td>\n",
       "      <td>price</td>\n",
       "      <td>Positive</td>\n",
       "    </tr>\n",
       "  </tbody>\n",
       "</table>\n",
       "</div>"
      ],
      "text/plain": [
       "     id                                               text    label sentiment\n",
       "0   153     LOCATION1 is in Greater London  and is a ve...   safety  Positive\n",
       "1  1130    All the neighborhoods around LOCATION1 are v...  general  Positive\n",
       "2  1130    All the neighborhoods around LOCATION1 are v...   safety  Positive\n",
       "3  1271    Cheap is LOCATION2, LOCATION1, but not reall...  general  Negative\n",
       "4  1271    Cheap is LOCATION2, LOCATION1, but not reall...    price  Positive"
      ]
     },
     "execution_count": 17,
     "metadata": {},
     "output_type": "execute_result"
    }
   ],
   "source": [
    "test.head()"
   ]
  },
  {
   "cell_type": "code",
   "execution_count": 18,
   "metadata": {
    "execution": {
     "iopub.execute_input": "2020-08-10T12:31:58.885022Z",
     "iopub.status.busy": "2020-08-10T12:31:58.884115Z",
     "iopub.status.idle": "2020-08-10T12:31:58.888122Z",
     "shell.execute_reply": "2020-08-10T12:31:58.887628Z"
    },
    "papermill": {
     "duration": 0.041695,
     "end_time": "2020-08-10T12:31:58.888219",
     "exception": false,
     "start_time": "2020-08-10T12:31:58.846524",
     "status": "completed"
    },
    "tags": []
   },
   "outputs": [
    {
     "data": {
      "text/html": [
       "<div>\n",
       "<style scoped>\n",
       "    .dataframe tbody tr th:only-of-type {\n",
       "        vertical-align: middle;\n",
       "    }\n",
       "\n",
       "    .dataframe tbody tr th {\n",
       "        vertical-align: top;\n",
       "    }\n",
       "\n",
       "    .dataframe thead th {\n",
       "        text-align: right;\n",
       "    }\n",
       "</style>\n",
       "<table border=\"1\" class=\"dataframe\">\n",
       "  <thead>\n",
       "    <tr style=\"text-align: right;\">\n",
       "      <th></th>\n",
       "      <th>id</th>\n",
       "      <th>text</th>\n",
       "      <th>label</th>\n",
       "      <th>sentiment</th>\n",
       "    </tr>\n",
       "  </thead>\n",
       "  <tbody>\n",
       "    <tr>\n",
       "      <th>0</th>\n",
       "      <td>1430</td>\n",
       "      <td>LOCATION1 is transforming and the prices w...</td>\n",
       "      <td>price</td>\n",
       "      <td>Negative</td>\n",
       "    </tr>\n",
       "    <tr>\n",
       "      <th>1</th>\n",
       "      <td>1244</td>\n",
       "      <td>And LOCATION1 is ten mins direct on the tube...</td>\n",
       "      <td>transit-location</td>\n",
       "      <td>Positive</td>\n",
       "    </tr>\n",
       "    <tr>\n",
       "      <th>2</th>\n",
       "      <td>209</td>\n",
       "      <td>Another option is LOCATION1 which is very ce...</td>\n",
       "      <td>transit-location</td>\n",
       "      <td>Positive</td>\n",
       "    </tr>\n",
       "    <tr>\n",
       "      <th>3</th>\n",
       "      <td>2824</td>\n",
       "      <td>Best bet is around LOCATION2 and LOCATION1 a...</td>\n",
       "      <td>general</td>\n",
       "      <td>Positive</td>\n",
       "    </tr>\n",
       "    <tr>\n",
       "      <th>4</th>\n",
       "      <td>2824</td>\n",
       "      <td>Best bet is around LOCATION2 and LOCATION1 a...</td>\n",
       "      <td>general</td>\n",
       "      <td>Positive</td>\n",
       "    </tr>\n",
       "  </tbody>\n",
       "</table>\n",
       "</div>"
      ],
      "text/plain": [
       "     id                                               text             label  \\\n",
       "0  1430      LOCATION1 is transforming and the prices w...             price   \n",
       "1  1244    And LOCATION1 is ten mins direct on the tube...  transit-location   \n",
       "2   209    Another option is LOCATION1 which is very ce...  transit-location   \n",
       "3  2824    Best bet is around LOCATION2 and LOCATION1 a...           general   \n",
       "4  2824    Best bet is around LOCATION2 and LOCATION1 a...           general   \n",
       "\n",
       "  sentiment  \n",
       "0  Negative  \n",
       "1  Positive  \n",
       "2  Positive  \n",
       "3  Positive  \n",
       "4  Positive  "
      ]
     },
     "execution_count": 18,
     "metadata": {},
     "output_type": "execute_result"
    }
   ],
   "source": [
    "train.head()"
   ]
  },
  {
   "cell_type": "code",
   "execution_count": 19,
   "metadata": {
    "execution": {
     "iopub.execute_input": "2020-08-10T12:31:58.953410Z",
     "iopub.status.busy": "2020-08-10T12:31:58.952645Z",
     "iopub.status.idle": "2020-08-10T12:31:59.197651Z",
     "shell.execute_reply": "2020-08-10T12:31:59.197108Z"
    },
    "papermill": {
     "duration": 0.280068,
     "end_time": "2020-08-10T12:31:59.197803",
     "exception": false,
     "start_time": "2020-08-10T12:31:58.917735",
     "status": "completed"
    },
    "tags": []
   },
   "outputs": [
    {
     "data": {
      "text/plain": [
       "<matplotlib.axes._subplots.AxesSubplot at 0x7f0f39c19f10>"
      ]
     },
     "execution_count": 19,
     "metadata": {},
     "output_type": "execute_result"
    },
    {
     "data": {
      "image/png": "[encoded data removed]",
      "text/plain": [
       "<Figure size 432x288 with 1 Axes>"
      ]
     },
     "metadata": {
      "needs_background": "light"
     },
     "output_type": "display_data"
    }
   ],
   "source": [
    "test.groupby('label').count().plot.bar()"
   ]
  },
  {
   "cell_type": "code",
   "execution_count": 20,
   "metadata": {
    "execution": {
     "iopub.execute_input": "2020-08-10T12:31:59.270273Z",
     "iopub.status.busy": "2020-08-10T12:31:59.269386Z",
     "iopub.status.idle": "2020-08-10T12:31:59.446169Z",
     "shell.execute_reply": "2020-08-10T12:31:59.446663Z"
    },
    "papermill": {
     "duration": 0.215744,
     "end_time": "2020-08-10T12:31:59.446820",
     "exception": false,
     "start_time": "2020-08-10T12:31:59.231076",
     "status": "completed"
    },
    "tags": []
   },
   "outputs": [
    {
     "data": {
      "text/plain": [
       "<matplotlib.axes._subplots.AxesSubplot at 0x7f0f39b0f990>"
      ]
     },
     "execution_count": 20,
     "metadata": {},
     "output_type": "execute_result"
    },
    {
     "data": {
      "image/png": "[encoded data removed]",
      "text/plain": [
       "<Figure size 432x288 with 1 Axes>"
      ]
     },
     "metadata": {
      "needs_background": "light"
     },
     "output_type": "display_data"
    }
   ],
   "source": [
    "train.groupby('label').count().plot.bar()"
   ]
  },
  {
   "cell_type": "code",
   "execution_count": null,
   "metadata": {
    "papermill": {
     "duration": 0.034674,
     "end_time": "2020-08-10T12:31:59.516031",
     "exception": false,
     "start_time": "2020-08-10T12:31:59.481357",
     "status": "completed"
    },
    "tags": []
   },
   "outputs": [],
   "source": []
  },
  {
   "cell_type": "code",
   "execution_count": 21,
   "metadata": {
    "_cell_guid": "79c7e3d0-c299-4dcb-8224-4455121ee9b0",
    "_uuid": "d629ff2d2480ee46fbb7e2d37f6b5fab8052498a",
    "execution": {
     "iopub.execute_input": "2020-08-10T12:31:59.593042Z",
     "iopub.status.busy": "2020-08-10T12:31:59.592261Z",
     "iopub.status.idle": "2020-08-10T12:32:07.025523Z",
     "shell.execute_reply": "2020-08-10T12:32:07.026092Z"
    },
    "papermill": {
     "duration": 7.47545,
     "end_time": "2020-08-10T12:32:07.026253",
     "exception": false,
     "start_time": "2020-08-10T12:31:59.550803",
     "status": "completed"
    },
    "tags": []
   },
   "outputs": [
    {
     "name": "stderr",
     "output_type": "stream",
     "text": [
      "\u001b[34m\u001b[1mwandb\u001b[0m: \u001b[33mWARNING\u001b[0m W&B installed but not logged in.  Run `wandb login` or set the WANDB_API_KEY env variable.\n"
     ]
    }
   ],
   "source": [
    "import transformers\n",
    "\n",
    "MAX_LEN = 512\n",
    "TRAIN_BATCH_SIZE = 12\n",
    "VALID_BATCH_SIZE = 12\n",
    "EPOCHS = 10\n",
    "BERT_PATH = \"../input/bert-base-uncased/\"\n",
    "MODEL_PATH = \"model.bin\"\n",
    "TRAINING_FILE = \"../input/absa-dataset/input/bert-pair/train_NLI_M.tsv\"\n",
    "DEV_FILE = \"../input/absa-dataset/input/bert-pair/dev_NLI_M.tsv\"\n",
    "TEST_FILE = \"../input/absa-dataset/input/bert-pair/test_NLI_M.tsv\"\n",
    "TOKENIZER = transformers.BertTokenizer.from_pretrained(BERT_PATH, do_lower_case=True)\n"
   ]
  },
  {
   "cell_type": "code",
   "execution_count": 22,
   "metadata": {
    "execution": {
     "iopub.execute_input": "2020-08-10T12:32:07.109570Z",
     "iopub.status.busy": "2020-08-10T12:32:07.107403Z",
     "iopub.status.idle": "2020-08-10T12:32:07.110469Z",
     "shell.execute_reply": "2020-08-10T12:32:07.111033Z"
    },
    "papermill": {
     "duration": 0.051166,
     "end_time": "2020-08-10T12:32:07.111185",
     "exception": false,
     "start_time": "2020-08-10T12:32:07.060019",
     "status": "completed"
    },
    "tags": []
   },
   "outputs": [],
   "source": [
    "import torch\n",
    "\n",
    "class BERTDataset:\n",
    "    def __init__(self, sentence1s,targets):\n",
    "        self.sentence1s = sentence1s\n",
    "        #self.sentence2s = sentence2s\n",
    "        self.targets = targets\n",
    "        self.tokenizer = TOKENIZER\n",
    "        self.max_len = MAX_LEN\n",
    "        \n",
    "    def __len__(self):\n",
    "        return len(self.sentence1s)\n",
    "                   \n",
    "        \n",
    "    def __getitem__(self, item):\n",
    "        sentence1 = str(self.sentence1s[item])\n",
    "        sentence1 = \" \".join(sentence1.split())\n",
    "        \n",
    "        #sentence2 = str(self.sentence2s[item])\n",
    "        #sentence2 = \" \".join(sentence2.split())\n",
    "\n",
    "        inputs = self.tokenizer.encode_plus(sentence1,\n",
    "                                            None,\n",
    "                                            add_special_tokens=True, \n",
    "                                            max_length=self.max_len,\n",
    "                                            pad_to_max_length=True,\n",
    "                                           )\n",
    "\n",
    "        ids = inputs[\"input_ids\"]\n",
    "        mask = inputs[\"attention_mask\"]\n",
    "        token_type_ids = inputs[\"token_type_ids\"]\n",
    "        \n",
    "        return {\n",
    "            \"ids\": torch.tensor(ids, dtype=torch.long),\n",
    "            \"mask\": torch.tensor(mask, dtype=torch.long),\n",
    "            \"token_type_ids\": torch.tensor(token_type_ids, dtype=torch.long),\n",
    "            \"targets\": torch.tensor(self.targets[item], dtype=torch.long),\n",
    "        }\n"
   ]
  },
  {
   "cell_type": "code",
   "execution_count": 23,
   "metadata": {
    "execution": {
     "iopub.execute_input": "2020-08-10T12:32:07.187095Z",
     "iopub.status.busy": "2020-08-10T12:32:07.186333Z",
     "iopub.status.idle": "2020-08-10T12:32:07.189664Z",
     "shell.execute_reply": "2020-08-10T12:32:07.190253Z"
    },
    "papermill": {
     "duration": 0.045505,
     "end_time": "2020-08-10T12:32:07.190376",
     "exception": false,
     "start_time": "2020-08-10T12:32:07.144871",
     "status": "completed"
    },
    "tags": []
   },
   "outputs": [],
   "source": [
    "import transformers\n",
    "import torch.nn as nn\n",
    "\n",
    "\n",
    "class BERTBaseUncased(nn.Module):\n",
    "    def __init__(self):\n",
    "        super(BERTBaseUncased, self).__init__()\n",
    "        self.bert = transformers.BertModel.from_pretrained(BERT_PATH)\n",
    "        self.bert_drop = nn.Dropout(0.3)\n",
    "        self.out = nn.Linear(768, 4)\n",
    "\n",
    "    def forward(self, ids, mask, token_type_ids):\n",
    "        _, o2 = self.bert(ids, attention_mask=mask, token_type_ids=token_type_ids)\n",
    "        bo = self.bert_drop(o2)\n",
    "        output = self.out(bo)\n",
    "        return output"
   ]
  },
  {
   "cell_type": "code",
   "execution_count": 24,
   "metadata": {
    "execution": {
     "iopub.execute_input": "2020-08-10T12:32:07.289161Z",
     "iopub.status.busy": "2020-08-10T12:32:07.288289Z",
     "iopub.status.idle": "2020-08-10T12:32:07.296384Z",
     "shell.execute_reply": "2020-08-10T12:32:07.294995Z"
    },
    "papermill": {
     "duration": 0.073548,
     "end_time": "2020-08-10T12:32:07.296559",
     "exception": false,
     "start_time": "2020-08-10T12:32:07.223011",
     "status": "completed"
    },
    "tags": []
   },
   "outputs": [],
   "source": [
    "import torch\n",
    "import torch.nn as nn\n",
    "from tqdm import tqdm\n",
    "import pdb\n",
    "\n",
    "\n",
    "def loss_fn(outputs, targets):\n",
    "    #targets = torch.argmax(targets, 1)\n",
    "    #loss = nn.CrossEntropyLoss()(outputs, targets.view(-1, 1))\n",
    "    loss = nn.CrossEntropyLoss()(outputs, targets)\n",
    "    \n",
    "    return loss\n",
    "\n",
    "\n",
    "def train_fn(data_loader, model, optimizer, device, scheduler):\n",
    "    model.train()\n",
    "\n",
    "    for bi, d in tqdm(enumerate(data_loader), total=len(data_loader)):\n",
    "        ids = d[\"ids\"]\n",
    "        token_type_ids = d[\"token_type_ids\"]\n",
    "        mask = d[\"mask\"]\n",
    "        targets = d[\"targets\"]\n",
    "\n",
    "        ids = ids.to(device, dtype=torch.long)\n",
    "        token_type_ids = token_type_ids.to(device, dtype=torch.long)\n",
    "        mask = mask.to(device, dtype=torch.long)\n",
    "        #pdb.set_trace()\n",
    "        targets = targets.to(device, dtype=torch.long)\n",
    "        #pdb.set_trace()\n",
    "\n",
    "        optimizer.zero_grad()\n",
    "        outputs = model(ids=ids, mask=mask, token_type_ids=token_type_ids)\n",
    "        loss = loss_fn(outputs, targets)\n",
    "        loss.backward()\n",
    "        optimizer.step()\n",
    "        scheduler.step()\n",
    "\n",
    "\n",
    "def eval_fn(data_loader, model, device):\n",
    "    model.eval()\n",
    "    fin_targets = []\n",
    "    fin_outputs = []\n",
    "    with torch.no_grad():\n",
    "        for bi, d in tqdm(enumerate(data_loader), total=len(data_loader)):\n",
    "            ids = d[\"ids\"]\n",
    "            token_type_ids = d[\"token_type_ids\"]\n",
    "            mask = d[\"mask\"]\n",
    "            targets = d[\"targets\"]\n",
    "\n",
    "            ids = ids.to(device, dtype=torch.long)\n",
    "            token_type_ids = token_type_ids.to(device, dtype=torch.long)\n",
    "            mask = mask.to(device, dtype=torch.long)\n",
    "            targets = targets.to(device, dtype=torch.long)\n",
    "\n",
    "            outputs = model(ids=ids, mask=mask, token_type_ids=token_type_ids)\n",
    "            act = nn.Softmax(dim=1)\n",
    "            outputs = act(outputs)\n",
    "            fin_targets.extend(targets.detach().cpu().numpy().tolist())\n",
    "            fin_outputs.extend(outputs.cpu().numpy().tolist())\n",
    "            \n",
    "    return fin_outputs, fin_targets"
   ]
  },
  {
   "cell_type": "code",
   "execution_count": 25,
   "metadata": {
    "execution": {
     "iopub.execute_input": "2020-08-10T12:32:07.398549Z",
     "iopub.status.busy": "2020-08-10T12:32:07.397712Z",
     "iopub.status.idle": "2020-08-10T12:58:23.469011Z",
     "shell.execute_reply": "2020-08-10T12:58:23.469517Z"
    },
    "papermill": {
     "duration": 1576.127844,
     "end_time": "2020-08-10T12:58:23.469714",
     "exception": false,
     "start_time": "2020-08-10T12:32:07.341870",
     "status": "completed"
    },
    "tags": []
   },
   "outputs": [
    {
     "name": "stdout",
     "output_type": "stream",
     "text": [
      "0\n"
     ]
    },
    {
     "name": "stderr",
     "output_type": "stream",
     "text": [
      "100%|██████████| 205/205 [02:14<00:00,  1.53it/s]\n",
      "100%|██████████| 102/102 [00:22<00:00,  4.60it/s]\n"
     ]
    },
    {
     "name": "stdout",
     "output_type": "stream",
     "text": [
      "Accuracy Score = {0.7442434210526315}\n",
      "1\n"
     ]
    },
    {
     "name": "stderr",
     "output_type": "stream",
     "text": [
      "100%|██████████| 205/205 [02:13<00:00,  1.53it/s]\n",
      "100%|██████████| 102/102 [00:22<00:00,  4.61it/s]\n"
     ]
    },
    {
     "name": "stdout",
     "output_type": "stream",
     "text": [
      "Accuracy Score = {0.756578947368421}\n",
      "2\n"
     ]
    },
    {
     "name": "stderr",
     "output_type": "stream",
     "text": [
      "100%|██████████| 205/205 [02:13<00:00,  1.53it/s]\n",
      "100%|██████████| 102/102 [00:22<00:00,  4.58it/s]\n"
     ]
    },
    {
     "name": "stdout",
     "output_type": "stream",
     "text": [
      "Accuracy Score = {0.7623355263157895}\n",
      "3\n"
     ]
    },
    {
     "name": "stderr",
     "output_type": "stream",
     "text": [
      "100%|██████████| 205/205 [02:13<00:00,  1.54it/s]\n",
      "100%|██████████| 102/102 [00:22<00:00,  4.59it/s]"
     ]
    },
    {
     "name": "stdout",
     "output_type": "stream",
     "text": [
      "Accuracy Score = {0.7606907894736842}\n",
      "4\n"
     ]
    },
    {
     "name": "stderr",
     "output_type": "stream",
     "text": [
      "\n",
      "100%|██████████| 205/205 [02:13<00:00,  1.53it/s]\n",
      "100%|██████████| 102/102 [00:22<00:00,  4.61it/s]"
     ]
    },
    {
     "name": "stdout",
     "output_type": "stream",
     "text": [
      "Accuracy Score = {0.759046052631579}\n",
      "5\n"
     ]
    },
    {
     "name": "stderr",
     "output_type": "stream",
     "text": [
      "\n",
      "100%|██████████| 205/205 [02:13<00:00,  1.53it/s]\n",
      "100%|██████████| 102/102 [00:22<00:00,  4.60it/s]\n"
     ]
    },
    {
     "name": "stdout",
     "output_type": "stream",
     "text": [
      "Accuracy Score = {0.765625}\n",
      "6\n"
     ]
    },
    {
     "name": "stderr",
     "output_type": "stream",
     "text": [
      "100%|██████████| 205/205 [02:13<00:00,  1.53it/s]\n",
      "100%|██████████| 102/102 [00:22<00:00,  4.61it/s]"
     ]
    },
    {
     "name": "stdout",
     "output_type": "stream",
     "text": [
      "Accuracy Score = {0.759046052631579}\n",
      "7\n"
     ]
    },
    {
     "name": "stderr",
     "output_type": "stream",
     "text": [
      "\n",
      "100%|██████████| 205/205 [02:13<00:00,  1.53it/s]\n",
      "100%|██████████| 102/102 [00:22<00:00,  4.61it/s]"
     ]
    },
    {
     "name": "stdout",
     "output_type": "stream",
     "text": [
      "Accuracy Score = {0.765625}\n",
      "8\n"
     ]
    },
    {
     "name": "stderr",
     "output_type": "stream",
     "text": [
      "\n",
      "100%|██████████| 205/205 [02:13<00:00,  1.53it/s]\n",
      "100%|██████████| 102/102 [00:22<00:00,  4.58it/s]\n"
     ]
    },
    {
     "name": "stdout",
     "output_type": "stream",
     "text": [
      "Accuracy Score = {0.7672697368421053}\n",
      "9\n"
     ]
    },
    {
     "name": "stderr",
     "output_type": "stream",
     "text": [
      "100%|██████████| 205/205 [02:13<00:00,  1.54it/s]\n",
      "100%|██████████| 102/102 [00:22<00:00,  4.62it/s]"
     ]
    },
    {
     "name": "stdout",
     "output_type": "stream",
     "text": [
      "Accuracy Score = {0.7631578947368421}\n"
     ]
    },
    {
     "name": "stderr",
     "output_type": "stream",
     "text": [
      "\n"
     ]
    }
   ],
   "source": [
    "import torch\n",
    "import pandas as pd\n",
    "import torch.nn as nn\n",
    "import numpy as np\n",
    "\n",
    "#from model import BERTBaseUncased\n",
    "from sklearn import model_selection\n",
    "from sklearn import metrics\n",
    "from transformers import AdamW\n",
    "from transformers import get_linear_schedule_with_warmup\n",
    "from sklearn import preprocessing\n",
    "\n",
    "def run():\n",
    "    \n",
    "    encoder = preprocessing.LabelEncoder()\n",
    "    train.loc[:, \"label\"] = encoder.fit_transform(train[\"label\"])\n",
    "    #dev_df.loc[:, \"label\"] = encoder.transform(dev_df[\"label\"])\n",
    "    test.loc[:, \"label\"] = encoder.transform(test[\"label\"])\n",
    "    \n",
    "    \n",
    "    train_dataset = BERTDataset(sentence1s = train.text.values, targets=train.label.values)\n",
    "    \n",
    "    train_data_loader = torch.utils.data.DataLoader(train_dataset, batch_size=TRAIN_BATCH_SIZE, num_workers=4)\n",
    "    \n",
    "    valid_dataset = BERTDataset(sentence1s = test.text.values,targets=test.label.values)\n",
    "    \n",
    "    valid_data_loader = torch.utils.data.DataLoader(valid_dataset, batch_size=VALID_BATCH_SIZE, num_workers=4)\n",
    "    \n",
    "    device = torch.device(\"cuda\")\n",
    "    model = BERTBaseUncased()\n",
    "    model.to(device)\n",
    "    \n",
    "    param_optimizer = list(model.named_parameters())\n",
    "    no_decay = [\"bias\", \"LayerNorm.bias\", \"LayerNorm.weight\"]\n",
    "    optimizer_parameters = [{\"params\": [p for n, p in param_optimizer if not any(nd in n for nd in no_decay)], \"weight_decay\": 0.001,},\n",
    "                            {\"params\": [p for n, p in param_optimizer if any(nd in n for nd in no_decay)], \"weight_decay\": 0.0,},]\n",
    "    num_train_steps = int(len(train) / TRAIN_BATCH_SIZE * EPOCHS)\n",
    "    optimizer = AdamW(optimizer_parameters, lr=3e-5)\n",
    "    scheduler = get_linear_schedule_with_warmup(optimizer, num_warmup_steps=0, num_training_steps=num_train_steps)\n",
    "    \n",
    "    model = nn.DataParallel(model)\n",
    "    \n",
    "    best_accuracy = 0\n",
    "    \n",
    "    for epoch in range(EPOCHS):\n",
    "        print(epoch)\n",
    "        train_fn(train_data_loader, model, optimizer, device, scheduler)\n",
    "        outputs, targets = eval_fn(valid_data_loader, model, device)\n",
    "        #pdb.set_trace()\n",
    "        outputs = torch.tensor(outputs)\n",
    "        outputs = torch.argmax(outputs, dim=1)\n",
    "        #outputs = np.array(outputs) >= 0.5\n",
    "        accuracy = metrics.accuracy_score(targets, outputs)\n",
    "        print(f\"Accuracy Score =\", {accuracy})\n",
    "        if accuracy > best_accuracy:\n",
    "            torch.save(model.state_dict(), MODEL_PATH)\n",
    "            best_accuracy = accuracy\n",
    "            \n",
    "if __name__ == \"__main__\":\n",
    "    run()\n"
   ]
  },
  {
   "cell_type": "code",
   "execution_count": 26,
   "metadata": {
    "execution": {
     "iopub.execute_input": "2020-08-10T12:58:25.687685Z",
     "iopub.status.busy": "2020-08-10T12:58:25.685814Z",
     "iopub.status.idle": "2020-08-10T12:58:25.688465Z",
     "shell.execute_reply": "2020-08-10T12:58:25.688947Z"
    },
    "papermill": {
     "duration": 1.129155,
     "end_time": "2020-08-10T12:58:25.689082",
     "exception": false,
     "start_time": "2020-08-10T12:58:24.559927",
     "status": "completed"
    },
    "tags": []
   },
   "outputs": [],
   "source": [
    "# data1 = pd.read_csv(\"../input/absa-dataset/input/bert-pair/dev_NLI_M.tsv\", sep='\\t')"
   ]
  },
  {
   "cell_type": "code",
   "execution_count": 27,
   "metadata": {
    "execution": {
     "iopub.execute_input": "2020-08-10T12:58:28.253244Z",
     "iopub.status.busy": "2020-08-10T12:58:28.252230Z",
     "iopub.status.idle": "2020-08-10T12:58:28.254618Z",
     "shell.execute_reply": "2020-08-10T12:58:28.253931Z"
    },
    "papermill": {
     "duration": 1.458461,
     "end_time": "2020-08-10T12:58:28.254755",
     "exception": false,
     "start_time": "2020-08-10T12:58:26.796294",
     "status": "completed"
    },
    "tags": []
   },
   "outputs": [],
   "source": [
    "# data1.head()"
   ]
  },
  {
   "cell_type": "code",
   "execution_count": 28,
   "metadata": {
    "execution": {
     "iopub.execute_input": "2020-08-10T12:58:30.469660Z",
     "iopub.status.busy": "2020-08-10T12:58:30.467667Z",
     "iopub.status.idle": "2020-08-10T12:58:30.470496Z",
     "shell.execute_reply": "2020-08-10T12:58:30.471065Z"
    },
    "papermill": {
     "duration": 1.129526,
     "end_time": "2020-08-10T12:58:30.471236",
     "exception": false,
     "start_time": "2020-08-10T12:58:29.341710",
     "status": "completed"
    },
    "tags": []
   },
   "outputs": [],
   "source": [
    "# data1['target'] = data1['sentence2'].apply(lambda x: x.split('-')[2])\n",
    "# data1['1_2'] = data1['sentence2'].apply(lambda x: x.split('-')[1])"
   ]
  },
  {
   "cell_type": "code",
   "execution_count": 29,
   "metadata": {
    "execution": {
     "iopub.execute_input": "2020-08-10T12:58:32.704848Z",
     "iopub.status.busy": "2020-08-10T12:58:32.703896Z",
     "iopub.status.idle": "2020-08-10T12:58:32.706939Z",
     "shell.execute_reply": "2020-08-10T12:58:32.706397Z"
    },
    "papermill": {
     "duration": 1.110817,
     "end_time": "2020-08-10T12:58:32.707049",
     "exception": false,
     "start_time": "2020-08-10T12:58:31.596232",
     "status": "completed"
    },
    "tags": []
   },
   "outputs": [],
   "source": [
    "# data1['target'].head()"
   ]
  },
  {
   "cell_type": "code",
   "execution_count": 30,
   "metadata": {
    "execution": {
     "iopub.execute_input": "2020-08-10T12:58:34.902790Z",
     "iopub.status.busy": "2020-08-10T12:58:34.901774Z",
     "iopub.status.idle": "2020-08-10T12:58:34.903522Z",
     "shell.execute_reply": "2020-08-10T12:58:34.904024Z"
    },
    "papermill": {
     "duration": 1.096145,
     "end_time": "2020-08-10T12:58:34.904166",
     "exception": false,
     "start_time": "2020-08-10T12:58:33.808021",
     "status": "completed"
    },
    "tags": []
   },
   "outputs": [],
   "source": [
    "# data1.head(-5)"
   ]
  },
  {
   "cell_type": "code",
   "execution_count": null,
   "metadata": {
    "papermill": {
     "duration": 1.088952,
     "end_time": "2020-08-10T12:58:37.115118",
     "exception": false,
     "start_time": "2020-08-10T12:58:36.026166",
     "status": "completed"
    },
    "tags": []
   },
   "outputs": [],
   "source": []
  },
  {
   "cell_type": "code",
   "execution_count": 31,
   "metadata": {
    "execution": {
     "iopub.execute_input": "2020-08-10T12:58:39.535043Z",
     "iopub.status.busy": "2020-08-10T12:58:39.534101Z",
     "iopub.status.idle": "2020-08-10T12:58:39.537006Z",
     "shell.execute_reply": "2020-08-10T12:58:39.536500Z"
    },
    "papermill": {
     "duration": 1.310657,
     "end_time": "2020-08-10T12:58:39.537118",
     "exception": false,
     "start_time": "2020-08-10T12:58:38.226461",
     "status": "completed"
    },
    "tags": []
   },
   "outputs": [],
   "source": [
    "# def changeForFun(data1):\n",
    "#     rest = []\n",
    "#     for index, row in data1.iterrows():\n",
    "#         response = {}\n",
    "#         ids = row['id']\n",
    "#         text = row['sentence1']\n",
    "#         target_aspect = row['sentence2']\n",
    "#         sentiment = row['label']\n",
    "\n",
    "#         response = {\n",
    "#             \"opinions\": [{\n",
    "#                 \"sentiment\": sentiment,\n",
    "#                 \"aspect\": target_aspect,\n",
    "#                 \"target_entity\": target_aspect}\n",
    "#             ],\n",
    "#             \"id\": ids,\n",
    "#             \"text\": text\n",
    "#         }\n",
    "#         rest.append(response)\n",
    "#     return rest\n",
    "    \n",
    "    "
   ]
  },
  {
   "cell_type": "code",
   "execution_count": 32,
   "metadata": {
    "execution": {
     "iopub.execute_input": "2020-08-10T12:58:42.077909Z",
     "iopub.status.busy": "2020-08-10T12:58:42.076976Z",
     "iopub.status.idle": "2020-08-10T12:58:42.079922Z",
     "shell.execute_reply": "2020-08-10T12:58:42.079393Z"
    },
    "papermill": {
     "duration": 1.120733,
     "end_time": "2020-08-10T12:58:42.080038",
     "exception": false,
     "start_time": "2020-08-10T12:58:40.959305",
     "status": "completed"
    },
    "tags": []
   },
   "outputs": [],
   "source": [
    "# rest = changeForFun(data1)"
   ]
  },
  {
   "cell_type": "code",
   "execution_count": 33,
   "metadata": {
    "execution": {
     "iopub.execute_input": "2020-08-10T12:58:44.548743Z",
     "iopub.status.busy": "2020-08-10T12:58:44.547686Z",
     "iopub.status.idle": "2020-08-10T12:58:44.550654Z",
     "shell.execute_reply": "2020-08-10T12:58:44.550176Z"
    },
    "papermill": {
     "duration": 1.354075,
     "end_time": "2020-08-10T12:58:44.550792",
     "exception": false,
     "start_time": "2020-08-10T12:58:43.196717",
     "status": "completed"
    },
    "tags": []
   },
   "outputs": [],
   "source": [
    "# print(rest)"
   ]
  },
  {
   "cell_type": "code",
   "execution_count": null,
   "metadata": {
    "papermill": {
     "duration": 1.222982,
     "end_time": "2020-08-10T12:58:46.916524",
     "exception": false,
     "start_time": "2020-08-10T12:58:45.693542",
     "status": "completed"
    },
    "tags": []
   },
   "outputs": [],
   "source": []
  }
 ],
 "metadata": {
  "kernelspec": {
   "display_name": "Python 3",
   "language": "python",
   "name": "python3"
  },
  "language_info": {
   "codemirror_mode": {
    "name": "ipython",
    "version": 3
   },
   "file_extension": ".py",
   "mimetype": "text/x-python",
   "name": "python",
   "nbconvert_exporter": "python",
   "pygments_lexer": "ipython3",
   "version": "3.7.6"
  },
  "papermill": {
   "duration": 1615.875868,
   "end_time": "2020-08-10T12:58:49.443280",
   "environment_variables": {},
   "exception": null,
   "input_path": "__notebook__.ipynb",
   "output_path": "__notebook__.ipynb",
   "parameters": {},
   "start_time": "2020-08-10T12:31:53.567412",
   "version": "2.1.0"
  }
 },
 "nbformat": 4,
 "nbformat_minor": 4
}
